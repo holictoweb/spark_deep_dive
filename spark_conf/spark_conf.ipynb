{
 "cells": [
  {
   "cell_type": "markdown",
   "metadata": {},
   "source": [
    "# spark conf\n",
    "\n",
    "- spark conf 종류 별로 확인 필요 \n",
    "- 기본적인 conf type 확인 \n",
    "    - "
   ]
  },
  {
   "cell_type": "code",
   "execution_count": 5,
   "metadata": {},
   "outputs": [],
   "source": [
    "from pyspark.sql import SparkSession\n",
    "from pyspark.conf import SparkConf\n",
    "from pyspark.sql.types import *\n",
    "from pyspark.sql.functions import lit\n",
    " \n",
    "db_path = 'd:/dw/data-warehouse/stocklab_db'\n",
    "appName = \"test_spark\"\n",
    "master = \"local[4]\"\n",
    "\n",
    "\n",
    "\n",
    "spark = SparkSession.builder.appName(appName) \\\n",
    "  .master(master) \\\n",
    "  .config(\"spark.sql.warehouse.dir\", db_path) \\\n",
    "  .config(\"spark.jars.packages\", \"io.delta:delta-core_2.12:0.8.0\") \\\n",
    "  .config(\"spark.sql.extensions\", \"io.delta.sql.DeltaSparkSessionExtension\") \\\n",
    "  .config(\"spark.sql.catalog.spark_catalog\", \"org.apache.spark.sql.delta.catalog.DeltaCatalog\") \\\n",
    "  .enableHiveSupport() \\\n",
    "  .getOrCreate()\n",
    "\n",
    "from delta.tables import *\n",
    "from pyspark.sql.functions import *"
   ]
  },
  {
   "cell_type": "code",
   "execution_count": 6,
   "metadata": {},
   "outputs": [
    {
     "data": {
      "text/plain": [
       "[('spark.sql.catalog.spark_catalog',\n",
       "  'org.apache.spark.sql.delta.catalog.DeltaCatalog'),\n",
       " ('spark.files',\n",
       "  'file:///C:/Users/Administrator/.ivy2/jars/io.delta_delta-core_2.12-0.8.0.jar,file:///C:/Users/Administrator/.ivy2/jars/org.antlr_antlr4-4.7.jar,file:///C:/Users/Administrator/.ivy2/jars/org.antlr_antlr4-runtime-4.7.jar,file:///C:/Users/Administrator/.ivy2/jars/org.antlr_antlr-runtime-3.5.2.jar,file:///C:/Users/Administrator/.ivy2/jars/org.antlr_ST4-4.0.8.jar,file:///C:/Users/Administrator/.ivy2/jars/org.abego.treelayout_org.abego.treelayout.core-1.0.3.jar,file:///C:/Users/Administrator/.ivy2/jars/org.glassfish_javax.json-1.0.4.jar,file:///C:/Users/Administrator/.ivy2/jars/com.ibm.icu_icu4j-58.2.jar'),\n",
       " ('spark.app.initial.file.urls',\n",
       "  'file:///C:/Users/Administrator/.ivy2/jars/io.delta_delta-core_2.12-0.8.0.jar,file:///C:/Users/Administrator/.ivy2/jars/org.antlr_antlr-runtime-3.5.2.jar,file:///C:/Users/Administrator/.ivy2/jars/com.ibm.icu_icu4j-58.2.jar,file:///C:/Users/Administrator/.ivy2/jars/org.antlr_ST4-4.0.8.jar,file:///C:/Users/Administrator/.ivy2/jars/org.glassfish_javax.json-1.0.4.jar,file:///C:/Users/Administrator/.ivy2/jars/org.abego.treelayout_org.abego.treelayout.core-1.0.3.jar,file:///C:/Users/Administrator/.ivy2/jars/org.antlr_antlr4-4.7.jar,file:///C:/Users/Administrator/.ivy2/jars/org.antlr_antlr4-runtime-4.7.jar'),\n",
       " ('spark.jars',\n",
       "  'file:///C:/Users/Administrator/.ivy2/jars/io.delta_delta-core_2.12-0.8.0.jar,file:///C:/Users/Administrator/.ivy2/jars/org.antlr_antlr4-4.7.jar,file:///C:/Users/Administrator/.ivy2/jars/org.antlr_antlr4-runtime-4.7.jar,file:///C:/Users/Administrator/.ivy2/jars/org.antlr_antlr-runtime-3.5.2.jar,file:///C:/Users/Administrator/.ivy2/jars/org.antlr_ST4-4.0.8.jar,file:///C:/Users/Administrator/.ivy2/jars/org.abego.treelayout_org.abego.treelayout.core-1.0.3.jar,file:///C:/Users/Administrator/.ivy2/jars/org.glassfish_javax.json-1.0.4.jar,file:///C:/Users/Administrator/.ivy2/jars/com.ibm.icu_icu4j-58.2.jar'),\n",
       " ('spark.driver.port', '53917'),\n",
       " ('spark.app.id', 'local-1621095498376'),\n",
       " ('spark.executor.id', 'driver'),\n",
       " ('spark.driver.host', '10.1.1.178'),\n",
       " ('spark.submit.pyFiles',\n",
       "  'C:/Users/Administrator/.ivy2/jars/io.delta_delta-core_2.12-0.8.0.jar,C:/Users/Administrator/.ivy2/jars/org.antlr_antlr4-4.7.jar,C:/Users/Administrator/.ivy2/jars/org.antlr_antlr4-runtime-4.7.jar,C:/Users/Administrator/.ivy2/jars/org.antlr_antlr-runtime-3.5.2.jar,C:/Users/Administrator/.ivy2/jars/org.antlr_ST4-4.0.8.jar,C:/Users/Administrator/.ivy2/jars/org.abego.treelayout_org.abego.treelayout.core-1.0.3.jar,C:/Users/Administrator/.ivy2/jars/org.glassfish_javax.json-1.0.4.jar,C:/Users/Administrator/.ivy2/jars/com.ibm.icu_icu4j-58.2.jar'),\n",
       " ('spark.sql.catalogImplementation', 'hive'),\n",
       " ('spark.sql.extensions', 'io.delta.sql.DeltaSparkSessionExtension'),\n",
       " ('spark.sql.warehouse.dir', 'd:/dw/data-warehouse/stocklab_db'),\n",
       " ('spark.rdd.compress', 'True'),\n",
       " ('spark.app.startTime', '1621095496053'),\n",
       " ('spark.serializer.objectStreamReset', '100'),\n",
       " ('spark.master', 'local[*]'),\n",
       " ('spark.jars.packages', 'io.delta:delta-core_2.12:0.8.0'),\n",
       " ('spark.submit.deployMode', 'client'),\n",
       " ('spark.app.initial.jar.urls',\n",
       "  'spark://10.1.1.178:53917/jars/io.delta_delta-core_2.12-0.8.0.jar,spark://10.1.1.178:53917/jars/org.antlr_ST4-4.0.8.jar,spark://10.1.1.178:53917/jars/org.antlr_antlr4-4.7.jar,spark://10.1.1.178:53917/jars/org.glassfish_javax.json-1.0.4.jar,spark://10.1.1.178:53917/jars/org.abego.treelayout_org.abego.treelayout.core-1.0.3.jar,spark://10.1.1.178:53917/jars/com.ibm.icu_icu4j-58.2.jar,spark://10.1.1.178:53917/jars/org.antlr_antlr4-runtime-4.7.jar,spark://10.1.1.178:53917/jars/org.antlr_antlr-runtime-3.5.2.jar'),\n",
       " ('spark.ui.showConsoleProgress', 'true'),\n",
       " ('spark.app.name', 'test_spark'),\n",
       " ('spark.repl.local.jars',\n",
       "  'file:///C:/Users/Administrator/.ivy2/jars/io.delta_delta-core_2.12-0.8.0.jar,file:///C:/Users/Administrator/.ivy2/jars/org.antlr_antlr4-4.7.jar,file:///C:/Users/Administrator/.ivy2/jars/org.antlr_antlr4-runtime-4.7.jar,file:///C:/Users/Administrator/.ivy2/jars/org.antlr_antlr-runtime-3.5.2.jar,file:///C:/Users/Administrator/.ivy2/jars/org.antlr_ST4-4.0.8.jar,file:///C:/Users/Administrator/.ivy2/jars/org.abego.treelayout_org.abego.treelayout.core-1.0.3.jar,file:///C:/Users/Administrator/.ivy2/jars/org.glassfish_javax.json-1.0.4.jar,file:///C:/Users/Administrator/.ivy2/jars/com.ibm.icu_icu4j-58.2.jar')]"
      ]
     },
     "execution_count": 6,
     "metadata": {},
     "output_type": "execute_result"
    }
   ],
   "source": [
    "#spark.conf.set(\"spark.executor.memory\", '1g')\n",
    "#spark.conf.set('spark.executor.cores', '1')\n",
    "#spark.conf.set('spark.cores.max', '1')\n",
    "#spark.conf.set(\"spark.driver.memory\",'1g')\n",
    "sc = spark.sparkContext\n",
    "\n",
    "\n",
    "sc.getConf().getAll()"
   ]
  },
  {
   "cell_type": "code",
   "execution_count": 15,
   "metadata": {},
   "outputs": [
    {
     "data": {
      "text/plain": [
       "'local[4]'"
      ]
     },
     "execution_count": 15,
     "metadata": {},
     "output_type": "execute_result"
    }
   ],
   "source": [
    "spark.conf.get(\"spark.master\")\n",
    "#spark.conf.get(\"spark.executor.cores\")\n",
    "\n"
   ]
  },
  {
   "cell_type": "code",
   "execution_count": null,
   "metadata": {},
   "outputs": [],
   "source": []
  }
 ],
 "metadata": {
  "kernelspec": {
   "display_name": "spark",
   "language": "python",
   "name": "spark"
  },
  "language_info": {
   "codemirror_mode": {
    "name": "ipython",
    "version": 3
   },
   "file_extension": ".py",
   "mimetype": "text/x-python",
   "name": "python",
   "nbconvert_exporter": "python",
   "pygments_lexer": "ipython3",
   "version": "3.9.4"
  }
 },
 "nbformat": 4,
 "nbformat_minor": 4
}

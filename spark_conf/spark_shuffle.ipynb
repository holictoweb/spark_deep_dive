{
 "cells": [
  {
   "cell_type": "code",
   "execution_count": 1,
   "metadata": {},
   "outputs": [],
   "source": [
    "from pyspark.sql import SparkSession\n",
    "from pyspark.conf import SparkConf\n",
    "from pyspark.sql.types import *\n",
    "from pyspark.sql.functions import lit\n",
    "\n",
    "\n",
    "\n",
    "db_path = 'd:/dw/data-warehouse/stocklab_db'\n",
    "appName = \"test_spark\"\n",
    "master = \"local[4]\"\n",
    "\n",
    "\n",
    "#conf = SparkConf().setAll([(\"spark.driver.maxResultSize\", '6g'), ('spark.executor.cores', '1'), ('spark.submit.deployMode', 'cluster')])\n",
    "\n",
    "spark = SparkSession.builder.appName(appName) \\\n",
    "  .config(\"spark.sql.warehouse.dir\", db_path) \\\n",
    "  .config(\"spark.jars.packages\", \"io.delta:delta-core_2.12:0.8.0\") \\\n",
    "  .config(\"spark.sql.extensions\", \"io.delta.sql.DeltaSparkSessionExtension\") \\\n",
    "  .config(\"spark.sql.catalog.spark_catalog\", \"org.apache.spark.sql.delta.catalog.DeltaCatalog\") \\\n",
    "  .enableHiveSupport() \\\n",
    "  .getOrCreate()\n",
    "\n",
    "from delta.tables import *\n",
    "from pyspark.sql.functions import *"
   ]
  },
  {
   "cell_type": "code",
   "execution_count": 2,
   "metadata": {},
   "outputs": [
    {
     "name": "stdout",
     "output_type": "stream",
     "text": [
      "+---------+\n",
      "|namespace|\n",
      "+---------+\n",
      "|  default|\n",
      "| stocklab|\n",
      "+---------+\n",
      "\n",
      "+-------------------------+--------------------------------------------------+\n",
      "|database_description_item|database_description_value                        |\n",
      "+-------------------------+--------------------------------------------------+\n",
      "|Database Name            |stocklab                                          |\n",
      "|Comment                  |                                                  |\n",
      "|Location                 |file:/d:/dw/data-warehouse/stocklab_db/stocklab.db|\n",
      "|Owner                    |Administrator                                     |\n",
      "+-------------------------+--------------------------------------------------+\n",
      "\n"
     ]
    }
   ],
   "source": [
    "#spark.sql(\"drop database if exists stocklab CASCADE\")\n",
    "#AnalysisException: org.apache.hadoop.hive.ql.metadata.HiveException: InvalidOperationException(message:Database stocklab is not empty. One or more tables exist.)\n",
    "#force drop cascade\n",
    "spark.sql(\"create database IF NOT EXISTS stocklab\")\n",
    "spark.sql(\"show databases \").show()\n",
    "spark.sql(\"describe database stocklab\").show(100,False)"
   ]
  },
  {
   "cell_type": "markdown",
   "metadata": {},
   "source": [
    "# stock_min data load\n",
    "\n",
    "- partition select "
   ]
  },
  {
   "cell_type": "code",
   "execution_count": 8,
   "metadata": {},
   "outputs": [],
   "source": [
    "# partition 정보를 통해 pushdown 할 수 있는 방법이 있는가? 실제 \n",
    "df_min = spark.read.format(\"parquet\").load(\"d:/dw/stock_min\")"
   ]
  },
  {
   "cell_type": "code",
   "execution_count": 6,
   "metadata": {},
   "outputs": [
    {
     "data": {
      "text/plain": [
       "DataFrame[summary: string, close: string, date: string, high: string, jdiff_vol: string, low: string, open: string, time: string, value: string, shcode: string]"
      ]
     },
     "execution_count": 6,
     "metadata": {},
     "output_type": "execute_result"
    }
   ],
   "source": [
    "df_min.describe()"
   ]
  },
  {
   "cell_type": "code",
   "execution_count": 11,
   "metadata": {},
   "outputs": [
    {
     "name": "stdout",
     "output_type": "stream",
     "text": [
      "+-----+----+---------+----+----+------+-----+--------+------+\n",
      "|close|high|jdiff_vol| low|open|  time|value|    date|shcode|\n",
      "+-----+----+---------+----+----+------+-----+--------+------+\n",
      "| 4340|4430|   256689|4300|4430|143000| 1122|20210514| 61250|\n",
      "| 4320|4395|   143971|4300|4345|143100|  626|20210514| 61250|\n",
      "| 4290|4330|    81408|4250|4325|143200|  349|20210514| 61250|\n",
      "| 4245|4290|    64016|4240|4290|143300|  273|20210514| 61250|\n",
      "| 4250|4265|    38360|4225|4245|143400|  163|20210514| 61250|\n",
      "| 4280|4285|    30856|4255|4255|143500|  132|20210514| 61250|\n",
      "| 4365|4375|    94219|4280|4285|143600|  408|20210514| 61250|\n",
      "| 4385|4405|   159427|4350|4370|143700|  698|20210514| 61250|\n",
      "| 4400|4450|   242606|4380|4385|143800| 1071|20210514| 61250|\n",
      "| 4520|4520|   374618|4400|4400|143900| 1673|20210514| 61250|\n",
      "| 4520|4520|        0|4520|4520|144000|    0|20210514| 61250|\n",
      "| 4520|4520|        0|4520|4520|144100|    0|20210514| 61250|\n",
      "| 4575|4580|   769771|4475|4485|144200| 3474|20210514| 61250|\n",
      "| 4610|4620|   638996|4530|4570|144300| 2928|20210514| 61250|\n",
      "| 4600|4680|   645456|4565|4610|144400| 2984|20210514| 61250|\n",
      "| 4590|4630|   366347|4570|4590|144500| 1684|20210514| 61250|\n",
      "| 4600|4600|   314022|4540|4585|144600| 1434|20210514| 61250|\n",
      "| 4720|4740|   792437|4595|4595|144700| 3700|20210514| 61250|\n",
      "| 4785|4785|   759525|4710|4715|144800| 3602|20210514| 61250|\n",
      "| 4770|4820|   842542|4765|4785|144900| 4036|20210514| 61250|\n",
      "+-----+----+---------+----+----+------+-----+--------+------+\n",
      "only showing top 20 rows\n",
      "\n"
     ]
    }
   ],
   "source": [
    "df_min.filter(df_min.date > '20210501').show()"
   ]
  },
  {
   "cell_type": "code",
   "execution_count": 12,
   "metadata": {},
   "outputs": [
    {
     "name": "stdout",
     "output_type": "stream",
     "text": [
      "== Physical Plan ==\n",
      "*(1) ColumnarToRow\n",
      "+- FileScan parquet [close#618,high#619,jdiff_vol#620,low#621,open#622,time#623,value#624,date#625,shcode#626] Batched: true, DataFilters: [], Format: Parquet, Location: InMemoryFileIndex[file:/d:/dw/stock_min], PartitionFilters: [], PushedFilters: [], ReadSchema: struct<close:string,high:string,jdiff_vol:string,low:string,open:string,time:string,value:string>\n",
      "\n",
      "\n"
     ]
    }
   ],
   "source": [
    "df_min.explain()"
   ]
  },
  {
   "cell_type": "code",
   "execution_count": 14,
   "metadata": {},
   "outputs": [
    {
     "name": "stdout",
     "output_type": "stream",
     "text": [
      "== Physical Plan ==\n",
      "*(1) ColumnarToRow\n",
      "+- FileScan parquet [close#618,high#619,jdiff_vol#620,low#621,open#622,time#623,value#624,date#625,shcode#626] Batched: true, DataFilters: [], Format: Parquet, Location: InMemoryFileIndex[file:/d:/dw/stock_min], PartitionFilters: [isnotnull(date#625), (date#625 > 20210501)], PushedFilters: [], ReadSchema: struct<close:string,high:string,jdiff_vol:string,low:string,open:string,time:string,value:string>\n",
      "\n",
      "\n"
     ]
    }
   ],
   "source": [
    "df_pre = df_min.filter(df_min.date > '20210501')\n",
    "df_pre.explain()"
   ]
  },
  {
   "cell_type": "code",
   "execution_count": 16,
   "metadata": {},
   "outputs": [
    {
     "name": "stdout",
     "output_type": "stream",
     "text": [
      "== Parsed Logical Plan ==\n",
      "'Filter (date#625 > 20210501)\n",
      "+- Relation[close#618,high#619,jdiff_vol#620,low#621,open#622,time#623,value#624,date#625,shcode#626] parquet\n",
      "\n",
      "== Analyzed Logical Plan ==\n",
      "close: string, high: string, jdiff_vol: string, low: string, open: string, time: string, value: string, date: int, shcode: string\n",
      "Filter (date#625 > cast(20210501 as int))\n",
      "+- Relation[close#618,high#619,jdiff_vol#620,low#621,open#622,time#623,value#624,date#625,shcode#626] parquet\n",
      "\n",
      "== Optimized Logical Plan ==\n",
      "Filter (isnotnull(date#625) AND (date#625 > 20210501))\n",
      "+- Relation[close#618,high#619,jdiff_vol#620,low#621,open#622,time#623,value#624,date#625,shcode#626] parquet\n",
      "\n",
      "== Physical Plan ==\n",
      "*(1) ColumnarToRow\n",
      "+- FileScan parquet [close#618,high#619,jdiff_vol#620,low#621,open#622,time#623,value#624,date#625,shcode#626] Batched: true, DataFilters: [], Format: Parquet, Location: InMemoryFileIndex[file:/d:/dw/stock_min], PartitionFilters: [isnotnull(date#625), (date#625 > 20210501)], PushedFilters: [], ReadSchema: struct<close:string,high:string,jdiff_vol:string,low:string,open:string,time:string,value:string>\n",
      "\n"
     ]
    }
   ],
   "source": [
    "df_pre.explain(extended=True)"
   ]
  },
  {
   "cell_type": "code",
   "execution_count": 29,
   "metadata": {},
   "outputs": [
    {
     "data": {
      "text/plain": [
       "1937"
      ]
     },
     "execution_count": 29,
     "metadata": {},
     "output_type": "execute_result"
    }
   ],
   "source": [
    "df_pre.rdd.getNumPartitions()"
   ]
  },
  {
   "cell_type": "code",
   "execution_count": 30,
   "metadata": {},
   "outputs": [
    {
     "ename": "AttributeError",
     "evalue": "'RDD' object has no attribute 'partitions'",
     "output_type": "error",
     "traceback": [
      "\u001b[1;31m---------------------------------------------------------------------------\u001b[0m",
      "\u001b[1;31mAttributeError\u001b[0m                            Traceback (most recent call last)",
      "\u001b[1;32m<ipython-input-30-26cca0900468>\u001b[0m in \u001b[0;36m<module>\u001b[1;34m\u001b[0m\n\u001b[1;32m----> 1\u001b[1;33m \u001b[0mdf_pre\u001b[0m\u001b[1;33m.\u001b[0m\u001b[0mrdd\u001b[0m\u001b[1;33m.\u001b[0m\u001b[0mpartitions\u001b[0m\u001b[1;33m.\u001b[0m\u001b[0msize\u001b[0m\u001b[1;33m(\u001b[0m\u001b[1;33m)\u001b[0m\u001b[1;33m\u001b[0m\u001b[1;33m\u001b[0m\u001b[0m\n\u001b[0m",
      "\u001b[1;31mAttributeError\u001b[0m: 'RDD' object has no attribute 'partitions'"
     ]
    }
   ],
   "source": [
    "df_pre.rdd.partitions.size()"
   ]
  },
  {
   "cell_type": "code",
   "execution_count": 24,
   "metadata": {},
   "outputs": [],
   "source": [
    "df_repart = df_pre.repartition(5)"
   ]
  },
  {
   "cell_type": "code",
   "execution_count": 25,
   "metadata": {},
   "outputs": [
    {
     "data": {
      "text/plain": [
       "5"
      ]
     },
     "execution_count": 25,
     "metadata": {},
     "output_type": "execute_result"
    }
   ],
   "source": [
    "df_repart.rdd.getNumPartitions()"
   ]
  },
  {
   "cell_type": "markdown",
   "metadata": {},
   "source": [
    "# repartition\n",
    "\n",
    "# collease\n"
   ]
  },
  {
   "cell_type": "code",
   "execution_count": 32,
   "metadata": {},
   "outputs": [
    {
     "name": "stdout",
     "output_type": "stream",
     "text": [
      "== Parsed Logical Plan ==\n",
      "Repartition 5, true\n",
      "+- Filter (date#625 > cast(20210501 as int))\n",
      "   +- Relation[close#618,high#619,jdiff_vol#620,low#621,open#622,time#623,value#624,date#625,shcode#626] parquet\n",
      "\n",
      "== Analyzed Logical Plan ==\n",
      "close: string, high: string, jdiff_vol: string, low: string, open: string, time: string, value: string, date: int, shcode: string\n",
      "Repartition 5, true\n",
      "+- Filter (date#625 > cast(20210501 as int))\n",
      "   +- Relation[close#618,high#619,jdiff_vol#620,low#621,open#622,time#623,value#624,date#625,shcode#626] parquet\n",
      "\n",
      "== Optimized Logical Plan ==\n",
      "Repartition 5, true\n",
      "+- Filter (isnotnull(date#625) AND (date#625 > 20210501))\n",
      "   +- Relation[close#618,high#619,jdiff_vol#620,low#621,open#622,time#623,value#624,date#625,shcode#626] parquet\n",
      "\n",
      "== Physical Plan ==\n",
      "Exchange RoundRobinPartitioning(5), REPARTITION_WITH_NUM, [id=#91]\n",
      "+- *(1) ColumnarToRow\n",
      "   +- FileScan parquet [close#618,high#619,jdiff_vol#620,low#621,open#622,time#623,value#624,date#625,shcode#626] Batched: true, DataFilters: [], Format: Parquet, Location: InMemoryFileIndex[file:/d:/dw/stock_min], PartitionFilters: [isnotnull(date#625), (date#625 > 20210501)], PushedFilters: [], ReadSchema: struct<close:string,high:string,jdiff_vol:string,low:string,open:string,time:string,value:string>\n",
      "\n"
     ]
    }
   ],
   "source": [
    "df_repart.explain(extended=True)"
   ]
  },
  {
   "cell_type": "code",
   "execution_count": null,
   "metadata": {},
   "outputs": [],
   "source": []
  }
 ],
 "metadata": {
  "kernelspec": {
   "display_name": "spark",
   "language": "python",
   "name": "spark"
  },
  "language_info": {
   "codemirror_mode": {
    "name": "ipython",
    "version": 3
   },
   "file_extension": ".py",
   "mimetype": "text/x-python",
   "name": "python",
   "nbconvert_exporter": "python",
   "pygments_lexer": "ipython3",
   "version": "3.9.4"
  }
 },
 "nbformat": 4,
 "nbformat_minor": 4
}

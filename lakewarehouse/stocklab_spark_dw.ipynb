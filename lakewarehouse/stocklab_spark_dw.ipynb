{
 "cells": [
  {
   "cell_type": "markdown",
   "metadata": {},
   "source": [
    "## spark data 처리\n",
    "\n",
    "1. 로컬 stock_min 정보를 읽어 warehouse구성\n",
    "2. 구성 위치는 1차로 로컬 dw 하위로 stocklab db 를 구성\n",
    "3. 이후 google drive로 위치 변경 "
   ]
  },
  {
   "cell_type": "code",
   "execution_count": 6,
   "metadata": {},
   "outputs": [],
   "source": [
    "from pyspark.sql import SparkSession\n",
    "from pyspark.conf import SparkConf\n",
    "from pyspark.sql.types import *\n",
    "from pyspark.sql.functions import lit\n",
    " \n",
    "\n",
    "    \n",
    "db_path = 'd:/dw/data-warehouse/stocklab_db'\n",
    "\n",
    "spark = SparkSession.builder.appName('test_spark') \\\n",
    "  .config(\"spark.sql.warehouse.dir\", db_path) \\\n",
    "  .config(\"spark.jars.packages\", \"io.delta:delta-core_2.12:0.8.0\") \\\n",
    "  .config(\"spark.sql.extensions\", \"io.delta.sql.DeltaSparkSessionExtension\") \\\n",
    "  .config(\"spark.sql.catalog.spark_catalog\", \"org.apache.spark.sql.delta.catalog.DeltaCatalog\") \\\n",
    "  .enableHiveSupport() \\\n",
    "  .getOrCreate()\n",
    "\n",
    "from delta.tables import *\n",
    "from pyspark.sql.functions import *"
   ]
  },
  {
   "cell_type": "code",
   "execution_count": 9,
   "metadata": {},
   "outputs": [
    {
     "name": "stdout",
     "output_type": "stream",
     "text": [
      "+---------+\n",
      "|namespace|\n",
      "+---------+\n",
      "|  default|\n",
      "| stocklab|\n",
      "+---------+\n",
      "\n",
      "+-------------------------+--------------------------------------------------+\n",
      "|database_description_item|database_description_value                        |\n",
      "+-------------------------+--------------------------------------------------+\n",
      "|Database Name            |stocklab                                          |\n",
      "|Comment                  |                                                  |\n",
      "|Location                 |file:/d:/dw/data-warehouse/stocklab_db/stocklab.db|\n",
      "|Owner                    |Administrator                                     |\n",
      "+-------------------------+--------------------------------------------------+\n",
      "\n"
     ]
    }
   ],
   "source": [
    "#spark.sql(\"drop database if exists stocklab CASCADE\")\n",
    "#AnalysisException: org.apache.hadoop.hive.ql.metadata.HiveException: InvalidOperationException(message:Database stocklab is not empty. One or more tables exist.)\n",
    "#force drop cascade\n",
    "spark.sql(\"create database IF NOT EXISTS stocklab\")\n",
    "spark.sql(\"show databases \").show()\n",
    "spark.sql(\"describe database stocklab\").show(100,False)"
   ]
  },
  {
   "cell_type": "code",
   "execution_count": 10,
   "metadata": {},
   "outputs": [],
   "source": [
    "df_min = spark.read.format(\"parquet\").load(\"d:/dw/stock_min\")"
   ]
  },
  {
   "cell_type": "code",
   "execution_count": 12,
   "metadata": {},
   "outputs": [
    {
     "name": "stdout",
     "output_type": "stream",
     "text": [
      "+-----+----+---------+----+----+------+-----+--------+------+\n",
      "|close|high|jdiff_vol| low|open|  time|value|    date|shcode|\n",
      "+-----+----+---------+----+----+------+-----+--------+------+\n",
      "| 3915|3965|   373432|3900|3960|090100| 1475|20210408|303030|\n",
      "| 3895|3945|   197449|3890|3915|090200|  775|20210408|303030|\n",
      "| 3875|3900|   101317|3860|3895|090300|  394|20210408|303030|\n",
      "| 3895|3900|    63951|3875|3875|090400|  249|20210408|303030|\n",
      "| 3910|3915|    86320|3885|3895|090500|  336|20210408|303030|\n",
      "| 3940|3940|   146708|3905|3910|090600|  576|20210408|303030|\n",
      "| 3930|3945|   140699|3920|3940|090700|  553|20210408|303030|\n",
      "| 3890|3935|   100168|3890|3920|090800|  391|20210408|303030|\n",
      "| 3920|3935|    75051|3890|3895|090900|  294|20210408|303030|\n",
      "| 3965|3980|   330749|3915|3925|091000| 1310|20210408|303030|\n",
      "| 4005|4015|   466790|3970|3970|091100| 1865|20210408|303030|\n",
      "| 4020|4020|   291048|3990|4000|091200| 1165|20210408|303030|\n",
      "| 4040|4050|   438413|4010|4015|091300| 1770|20210408|303030|\n",
      "| 4040|4045|   234132|4020|4040|091400|  944|20210408|303030|\n",
      "| 4055|4080|   653640|4035|4040|091500| 2656|20210408|303030|\n",
      "| 4105|4110|   522890|4050|4060|091600| 2138|20210408|303030|\n",
      "| 4075|4135|   501049|4050|4105|091700| 2053|20210408|303030|\n",
      "| 4085|4105|   285183|4075|4080|091800| 1166|20210408|303030|\n",
      "| 4130|4190|   627468|4085|4085|091900| 2598|20210408|303030|\n",
      "| 4110|4155|   373956|4105|4140|092000| 1546|20210408|303030|\n",
      "+-----+----+---------+----+----+------+-----+--------+------+\n",
      "only showing top 20 rows\n",
      "\n"
     ]
    }
   ],
   "source": [
    "df_min.show()"
   ]
  },
  {
   "cell_type": "code",
   "execution_count": null,
   "metadata": {},
   "outputs": [],
   "source": [
    "df_min.groupBy(\"shcode\").agg(count(\"shcode\")).show()"
   ]
  },
  {
   "cell_type": "code",
   "execution_count": null,
   "metadata": {},
   "outputs": [],
   "source": []
  }
 ],
 "metadata": {
  "kernelspec": {
   "display_name": "spark",
   "language": "python",
   "name": "spark"
  },
  "language_info": {
   "codemirror_mode": {
    "name": "ipython",
    "version": 3
   },
   "file_extension": ".py",
   "mimetype": "text/x-python",
   "name": "python",
   "nbconvert_exporter": "python",
   "pygments_lexer": "ipython3",
   "version": "3.9.4"
  }
 },
 "nbformat": 4,
 "nbformat_minor": 4
}

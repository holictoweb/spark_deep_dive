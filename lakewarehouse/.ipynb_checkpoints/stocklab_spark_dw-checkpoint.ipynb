{
 "cells": [
  {
   "cell_type": "markdown",
   "metadata": {},
   "source": [
    "## spark data 처리\n",
    "\n",
    "1. 로컬 stock_min 정보를 읽어 warehouse구성\n",
    "2. 구성 위치는 1차로 로컬 dw 하위로 stocklab db 를 구성\n",
    "3. 이후 "
   ]
  },
  {
   "cell_type": "code",
   "execution_count": null,
   "metadata": {},
   "outputs": [],
   "source": [
    "from pyspark.sql import SparkSession\n",
    "from pyspark.conf import SparkConf\n",
    "from pyspark.sql.types import *\n",
    "from pyspark.sql.functions import lit\n",
    " \n",
    "db_path = '/content/drive/MyDrive/data-warehouse/stocklab_db'\n",
    "\n",
    "spark = SparkSession.builder.appName('test_spark') \\\n",
    "  .config(\"spark.sql.warehouse.dir\", db_path) \\\n",
    "  .enableHiveSupport() \\\n",
    "  .getOrCreate()"
   ]
  }
 ],
 "metadata": {
  "kernelspec": {
   "display_name": "test32",
   "language": "python",
   "name": "test32"
  },
  "language_info": {
   "codemirror_mode": {
    "name": "ipython",
    "version": 3
   },
   "file_extension": ".py",
   "mimetype": "text/x-python",
   "name": "python",
   "nbconvert_exporter": "python",
   "pygments_lexer": "ipython3",
   "version": "3.7.9"
  }
 },
 "nbformat": 4,
 "nbformat_minor": 4
}

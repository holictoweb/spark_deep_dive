{
 "cells": [
  {
   "cell_type": "markdown",
   "metadata": {},
   "source": [
    "## spark data 처리\n",
    "\n",
    "1. 로컬 stock_min 정보를 읽어 warehouse구성\n",
    "2. 구성 위치는 1차로 로컬 dw 하위로 stocklab db 를 구성\n",
    "3. 이후 google drive로 위치 변경 "
   ]
  },
  {
   "cell_type": "code",
   "execution_count": 6,
   "metadata": {},
   "outputs": [],
   "source": [
    "from pyspark.sql import SparkSession\n",
    "from pyspark.conf import SparkConf\n",
    "from pyspark.sql.types import *\n",
    "from pyspark.sql.functions import lit\n",
    " \n",
    "\n",
    "    \n",
    "db_path = 'd:/dw/data-warehouse/stocklab_db'\n",
    "\n",
    "spark = SparkSession.builder.appName('test_spark') \\\n",
    "  .config(\"spark.sql.warehouse.dir\", db_path) \\\n",
    "  .config(\"spark.jars.packages\", \"io.delta:delta-core_2.12:0.8.0\") \\\n",
    "  .config(\"spark.sql.extensions\", \"io.delta.sql.DeltaSparkSessionExtension\") \\\n",
    "  .config(\"spark.sql.catalog.spark_catalog\", \"org.apache.spark.sql.delta.catalog.DeltaCatalog\") \\\n",
    "  .enableHiveSupport() \\\n",
    "  .getOrCreate()\n",
    "\n",
    "from delta.tables import *\n",
    "from pyspark.sql.functions import *"
   ]
  },
  {
   "cell_type": "code",
   "execution_count": 9,
   "metadata": {},
   "outputs": [
    {
     "name": "stdout",
     "output_type": "stream",
     "text": [
      "+---------+\n",
      "|namespace|\n",
      "+---------+\n",
      "|  default|\n",
      "| stocklab|\n",
      "+---------+\n",
      "\n",
      "+-------------------------+--------------------------------------------------+\n",
      "|database_description_item|database_description_value                        |\n",
      "+-------------------------+--------------------------------------------------+\n",
      "|Database Name            |stocklab                                          |\n",
      "|Comment                  |                                                  |\n",
      "|Location                 |file:/d:/dw/data-warehouse/stocklab_db/stocklab.db|\n",
      "|Owner                    |Administrator                                     |\n",
      "+-------------------------+--------------------------------------------------+\n",
      "\n"
     ]
    }
   ],
   "source": [
    "#spark.sql(\"drop database if exists stocklab CASCADE\")\n",
    "#AnalysisException: org.apache.hadoop.hive.ql.metadata.HiveException: InvalidOperationException(message:Database stocklab is not empty. One or more tables exist.)\n",
    "#force drop cascade\n",
    "spark.sql(\"create database IF NOT EXISTS stocklab\")\n",
    "spark.sql(\"show databases \").show()\n",
    "spark.sql(\"describe database stocklab\").show(100,False)"
   ]
  },
  {
   "cell_type": "code",
   "execution_count": null,
   "metadata": {},
   "outputs": [],
   "source": [
    "spark. "
   ]
  },
  {
   "cell_type": "code",
   "execution_count": null,
   "metadata": {},
   "outputs": [],
   "source": []
  }
 ],
 "metadata": {
  "kernelspec": {
   "display_name": "spark",
   "language": "python",
   "name": "spark"
  },
  "language_info": {
   "codemirror_mode": {
    "name": "ipython",
    "version": 3
   },
   "file_extension": ".py",
   "mimetype": "text/x-python",
   "name": "python",
   "nbconvert_exporter": "python",
   "pygments_lexer": "ipython3",
   "version": "3.9.4"
  }
 },
 "nbformat": 4,
 "nbformat_minor": 4
}

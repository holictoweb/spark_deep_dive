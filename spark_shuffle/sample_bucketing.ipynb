{
 "cells": [
  {
   "cell_type": "code",
   "execution_count": 7,
   "metadata": {},
   "outputs": [],
   "source": [
    "from pyspark.sql import SparkSession\n",
    "from pyspark.conf import SparkConf\n",
    "from pyspark.sql.types import *\n",
    "from pyspark.sql.functions import lit\n",
    "\n",
    "db_path = 'd:/dw/data-warehouse/stocklab_db'\n",
    "appName = \"test_spark\"\n",
    "master = \"local[*]\"\n",
    "\n",
    "conf = SparkConf().setAll([(\"spark.driver.maxResultSize\", '6g'), ('spark.executor.cores', '1'), ('spark.submit.deployMode', 'client')])\n",
    "\n",
    "spark = SparkSession.builder.appName(appName) \\\n",
    "  .master(master) \\\n",
    "  .config(conf=conf) \\\n",
    "  .config(\"spark.sql.warehouse.dir\", db_path) \\\n",
    "  .config(\"spark.jars.packages\", \"io.delta:delta-core_2.12:0.8.0\") \\\n",
    "  .config(\"spark.sql.extensions\", \"io.delta.sql.DeltaSparkSessionExtension\") \\\n",
    "  .config(\"spark.sql.catalog.spark_catalog\", \"org.apache.spark.sql.delta.catalog.DeltaCatalog\") \\\n",
    "  .enableHiveSupport() \\\n",
    "  .getOrCreate()\n",
    "\n",
    "from delta.tables import *\n",
    "from pyspark.sql.functions import *"
   ]
  },
  {
   "cell_type": "code",
   "execution_count": 9,
   "metadata": {},
   "outputs": [
    {
     "name": "stdout",
     "output_type": "stream",
     "text": [
      "+---------+\n",
      "|namespace|\n",
      "+---------+\n",
      "|  default|\n",
      "| stocklab|\n",
      "+---------+\n",
      "\n",
      "+-------------------------+--------------------------------------------------+\n",
      "|database_description_item|database_description_value                        |\n",
      "+-------------------------+--------------------------------------------------+\n",
      "|Database Name            |stocklab                                          |\n",
      "|Comment                  |                                                  |\n",
      "|Location                 |file:/d:/dw/data-warehouse/stocklab_db/stocklab.db|\n",
      "|Owner                    |Administrator                                     |\n",
      "+-------------------------+--------------------------------------------------+\n",
      "\n"
     ]
    }
   ],
   "source": [
    "#spark.sql(\"drop database if exists stocklab CASCADE\")\n",
    "#AnalysisException: org.apache.hadoop.hive.ql.metadata.HiveException: InvalidOperationException(message:Database stocklab is not empty. One or more tables exist.)\n",
    "#force drop cascade\n",
    "spark.sql(\"create database IF NOT EXISTS stocklab\")\n",
    "spark.sql(\"show databases \").show()\n",
    "spark.sql(\"describe database stocklab\").show(100,False)"
   ]
  },
  {
   "cell_type": "markdown",
   "metadata": {},
   "source": [
    "# min data load\n",
    "\n",
    "df_min 으로 전체 데이터  load"
   ]
  },
  {
   "cell_type": "code",
   "execution_count": 10,
   "metadata": {},
   "outputs": [],
   "source": [
    "df_min = spark.read.format(\"parquet\").load(\"d:/dw/stock_min\")"
   ]
  },
  {
   "cell_type": "markdown",
   "metadata": {},
   "source": [
    "# dw/prod/stock_min\n",
    "- load 한 데이터에 대해 shuffle data 생성\n",
    "- shuffle 기준은 상위 date 기준 partition 후 각 개별 code 단위로 데이터 저장 \n"
   ]
  },
  {
   "cell_type": "code",
   "execution_count": 17,
   "metadata": {},
   "outputs": [
    {
     "data": {
      "text/plain": [
       "596"
      ]
     },
     "execution_count": 17,
     "metadata": {},
     "output_type": "execute_result"
    }
   ],
   "source": [
    "df_code = spark.read.format(\"parquet\").load('d:/dw/stock_code')\n",
    "df_code.count()"
   ]
  },
  {
   "cell_type": "code",
   "execution_count": null,
   "metadata": {},
   "outputs": [],
   "source": [
    "df_min.write.format('parquet').bucketBy(20, 'shcode').mode(\"overwrite\").saveAsTable(\"stocklab.stock_min_bucket\")"
   ]
  },
  {
   "cell_type": "code",
   "execution_count": null,
   "metadata": {},
   "outputs": [],
   "source": []
  }
 ],
 "metadata": {
  "kernelspec": {
   "display_name": "spark",
   "language": "python",
   "name": "spark"
  },
  "language_info": {
   "codemirror_mode": {
    "name": "ipython",
    "version": 3
   },
   "file_extension": ".py",
   "mimetype": "text/x-python",
   "name": "python",
   "nbconvert_exporter": "python",
   "pygments_lexer": "ipython3",
   "version": "3.9.4"
  }
 },
 "nbformat": 4,
 "nbformat_minor": 4
}

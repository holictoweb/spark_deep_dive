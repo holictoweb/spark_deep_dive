{
 "cells": [
  {
   "cell_type": "markdown",
   "metadata": {
    "colab_type": "text",
    "id": "view-in-github"
   },
   "source": [
    "<a href=\"https://colab.research.google.com/github/holictoweb/spark_deep_dive/blob/main/lakewarehouse/pyspark_datawarehouse_01.ipynb\" target=\"_parent\"><img src=\"https://colab.research.google.com/assets/colab-badge.svg\" alt=\"Open In Colab\"/></a>"
   ]
  },
  {
   "cell_type": "markdown",
   "metadata": {
    "id": "6ldGJgWecqJ2"
   },
   "source": [
    "### colab + yfinance + google drive + pyspark\n",
    "\n",
    "1. pyspark 설치 \n",
    "2. yfinance를 통해 데이터 수집\n",
    "3. google drive 상에 parquet 으로 데이터 저장\n",
    "4. pyspark을 통해 해당 데이터를 테이블로 저장\n",
    "5. 데이터 분석 진행"
   ]
  },
  {
   "cell_type": "markdown",
   "metadata": {
    "id": "fjLIJD-v1RZ4"
   },
   "source": [
    "### Datasource\n",
    "\n",
    "[spark 3.1.1 공식 문서 ](https://spark.apache.org/docs/latest/sql-data-sources.html)\n",
    "\n"
   ]
  },
  {
   "cell_type": "code",
   "execution_count": 17,
   "metadata": {
    "id": "XoNJr7BMaD_Z"
   },
   "outputs": [],
   "source": [
    "from pyspark.sql import SparkSession\n",
    "from pyspark.conf import SparkConf\n",
    "from pyspark.sql.types import *\n",
    "from pyspark.sql.functions import lit\n",
    " \n",
    "db_path = '/content/drive/MyDrive/data-warehouse/stocklab_db'\n",
    "\n",
    "spark = SparkSession.builder.appName('test_spark') \\\n",
    "  .config(\"spark.sql.warehouse.dir\", db_path) \\\n",
    "  .enableHiveSupport() \\\n",
    "  .getOrCreate()"
   ]
  },
  {
   "cell_type": "code",
   "execution_count": 18,
   "metadata": {
    "colab": {
     "base_uri": "https://localhost:8080/"
    },
    "id": "3E-GenInaDfD",
    "outputId": "f7232aa1-375c-42c0-f8e3-31b41f2b97c7"
   },
   "outputs": [
    {
     "name": "stdout",
     "output_type": "stream",
     "text": [
      "+---------+\n",
      "|namespace|\n",
      "+---------+\n",
      "|  default|\n",
      "| stocklab|\n",
      "+---------+\n",
      "\n",
      "+-------------------------+------------------------------------------------------------------+\n",
      "|database_description_item|database_description_value                                        |\n",
      "+-------------------------+------------------------------------------------------------------+\n",
      "|Database Name            |stocklab                                                          |\n",
      "|Comment                  |                                                                  |\n",
      "|Location                 |file:/content/drive/MyDrive/data-warehouse/stocklab_db/stocklab.db|\n",
      "|Owner                    |root                                                              |\n",
      "+-------------------------+------------------------------------------------------------------+\n",
      "\n"
     ]
    }
   ],
   "source": [
    "spark.sql(\"drop database if exists stocklab CASCADE\")\n",
    "#AnalysisException: org.apache.hadoop.hive.ql.metadata.HiveException: InvalidOperationException(message:Database stocklab is not empty. One or more tables exist.)\n",
    "#force drop cascade\n",
    "spark.sql(\"create database IF NOT EXISTS stocklab\")\n",
    "spark.sql(\"show databases \").show()\n",
    "spark.sql(\"describe database stocklab\").show(100,False)"
   ]
  },
  {
   "cell_type": "code",
   "execution_count": 28,
   "metadata": {
    "colab": {
     "base_uri": "https://localhost:8080/"
    },
    "id": "mw0MlTKEb-Kc",
    "outputId": "15030fad-f63b-4845-efe1-c8f4c58b3714"
   },
   "outputs": [
    {
     "name": "stdout",
     "output_type": "stream",
     "text": [
      "[*********************100%***********************]  1 of 1 completed\n",
      "+------+------+------+------+----------------+--------+------+\n",
      "|  Open|  High|   Low| Close|        AdjClose|  Volume|  Code|\n",
      "+------+------+------+------+----------------+--------+------+\n",
      "|6000.0|6110.0|5660.0|6110.0|4761.18310546875|74195000|005930|\n",
      "|5800.0|6060.0|5520.0|5580.0|4348.18408203125|74680000|005930|\n",
      "|5750.0|5780.0|5580.0|5620.0|4379.35400390625|54390000|005930|\n",
      "|5560.0|5670.0|5360.0|5540.0|     4317.015625|40305000|005930|\n",
      "|5600.0|5770.0|5580.0|5770.0|4496.24072265625|46880000|005930|\n",
      "|5820.0|6100.0|5770.0|5770.0|4496.24072265625|59745000|005930|\n",
      "|5610.0|5740.0|5600.0|5720.0| 4457.2783203125|29220000|005930|\n",
      "|5600.0|5740.0|5560.0|5710.0|4449.48583984375|41190000|005930|\n",
      "|5720.0|5880.0|5680.0|5830.0|4542.99560546875|49375000|005930|\n",
      "|6000.0|6180.0|5920.0|6100.0|4753.39111328125|63505000|005930|\n",
      "|6160.0|6160.0|5980.0|6100.0|4753.39111328125|45260000|005930|\n",
      "|6000.0|6040.0|5960.0|5960.0|4644.29736328125|40205000|005930|\n",
      "|5860.0|6040.0|5820.0|6040.0|4706.63916015625|37315000|005930|\n",
      "|5950.0|5980.0|5880.0|5880.0|4581.95849609375|32535000|005930|\n",
      "|5800.0|5900.0|5700.0|5700.0|4441.69384765625|34355000|005930|\n",
      "|5520.0|5640.0|5440.0|5440.0|4239.09033203125|44250000|005930|\n",
      "|5500.0|5520.0|5410.0|5480.0|  4270.259765625|29285000|005930|\n",
      "|5480.0|5620.0|5430.0|5520.0|4301.42822265625|27900000|005930|\n",
      "|5640.0|5880.0|5540.0|5820.0|4535.20458984375|38315000|005930|\n",
      "|5640.0|5730.0|5560.0|5580.0|4348.18408203125|39630000|005930|\n",
      "+------+------+------+------+----------------+--------+------+\n",
      "only showing top 20 rows\n",
      "\n",
      "[*********************100%***********************]  1 of 1 completed\n",
      "+----------------+----------------+----------------+----------------+----------------+------+------+\n",
      "|            Open|            High|             Low|           Close|        AdjClose|Volume|  Code|\n",
      "+----------------+----------------+----------------+----------------+----------------+------+------+\n",
      "|5960.36474609375|6849.97119140625|5791.33935546875|6849.97119140625| 6621.4013671875|560922|068270|\n",
      "| 6841.0751953125| 6841.0751953125|  5826.923828125|  5826.923828125|  5632.490234375|475041|068270|\n",
      "|  5737.962890625|5853.61181640625| 5097.4462890625|5106.34228515625|4935.95361328125|205259|068270|\n",
      "|   5204.19921875|   5204.19921875|4919.52490234375|4964.00537109375|4798.36669921875| 78574|068270|\n",
      "| 4892.8369140625|5293.15966796875| 4892.8369140625|5026.27783203125| 4858.5615234375| 68569|068270|\n",
      "|5186.40673828125|5230.88720703125|  4946.212890625|  4946.212890625|   4781.16796875| 44738|068270|\n",
      "|  4946.212890625| 5141.9267578125|4919.52490234375|5026.27783203125| 4858.5615234375| 50134|068270|\n",
      "| 5052.9658203125| 5097.4462890625| 4848.3564453125| 4848.3564453125|4686.57666015625| 46762|068270|\n",
      "| 4848.3564453125| 4848.3564453125|4670.43505859375|4732.70751953125|4574.78662109375| 65084|068270|\n",
      "|4794.97998046875|  4830.564453125|  4697.123046875|  4786.083984375| 4626.3818359375| 31811|068270|\n",
      "| 4759.3955078125| 4759.3955078125| 4634.8505859375|4714.91552734375|4557.58837890625| 46987|068270|\n",
      "| 4643.7470703125|4732.70751953125| 4474.7216796875| 4474.7216796875| 4325.4091796875| 35521|068270|\n",
      "|  4492.513671875|4652.64306640625|  4492.513671875|  4581.474609375|4428.60009765625| 20346|068270|\n",
      "|4465.82568359375|  4492.513671875| 4385.7607421875|  4448.033203125|  4299.611328125| 20121|068270|\n",
      "|4314.59228515625|  4536.994140625|4314.59228515625|4439.13720703125|4291.01220703125| 10678|068270|\n",
      "|   4323.48828125|4625.95458984375|   4323.48828125|4381.31298828125|    4235.1171875| 28439|068270|\n",
      "|4319.04052734375|4465.82568359375|4314.59228515625| 4430.2412109375|4282.41259765625| 33160|068270|\n",
      "|  4492.513671875|  4492.513671875| 4385.7607421875|  4448.033203125|  4299.611328125| 16748|068270|\n",
      "|    4456.9296875|  4492.513671875|4047.71044921875|   4323.48828125|4179.22216796875| 23268|068270|\n",
      "|   4323.48828125|   4323.48828125|   4323.48828125|   4323.48828125|4179.22216796875|     0|068270|\n",
      "+----------------+----------------+----------------+----------------+----------------+------+------+\n",
      "only showing top 20 rows\n",
      "\n",
      "[*********************100%***********************]  1 of 1 completed\n",
      "+------------------+------------------+------------------+------------------+------------------+--------+------+\n",
      "|              Open|              High|               Low|             Close|          AdjClose|  Volume|  Code|\n",
      "+------------------+------------------+------------------+------------------+------------------+--------+------+\n",
      "| 1797.724853515625| 1797.724853515625| 1797.724853515625| 1797.724853515625| 1763.381103515625|  501745|035420|\n",
      "|  2012.22607421875|  2012.22607421875|1989.7545166015625|  2012.22607421875|1973.7845458984375|20892185|035420|\n",
      "|    2042.869140625|  2091.89794921875|1865.1395263671875|  1912.12548828125| 1875.595947265625|32327083|035420|\n",
      "|1961.1544189453125|   2022.4404296875|1724.1815185546875|1793.6390380859375| 1759.373291015625|18373668|035420|\n",
      "| 1777.296142578125|1789.5533447265625|   1660.8525390625|1703.7528076171875|   1671.2041015625|16939411|035420|\n",
      "|1695.5814208984375|1785.4676513671875|1695.5814208984375|   1701.7099609375|1669.2003173828125|15353406|035420|\n",
      "| 1728.267333984375|1740.5245361328125| 1626.123779296875|1664.9383544921875|1633.1312255859375|12487339|035420|\n",
      "|1654.7239990234375| 1746.653076171875|1650.6383056640625| 1666.981201171875|1635.1351318359375|11682099|035420|\n",
      "| 1628.166748046875|1650.6383056640625|1603.6522216796875|1634.2952880859375|1603.0736083984375| 6740519|035420|\n",
      "|1630.2095947265625|1730.3101806640625|1630.2095947265625|1675.1527099609375| 1643.150634765625|10783852|035420|\n",
      "| 1646.552490234375|1654.7239990234375|  1573.00927734375|1585.2664794921875|1554.9815673828125| 7176181|035420|\n",
      "|1585.2664794921875|1624.0809326171875|1499.4659423828125|1503.5516357421875|1474.8277587890625|10570917|035420|\n",
      "|  1552.58056640625|1568.9234619140625|1450.4371337890625|1495.3802490234375|         1466.8125| 8566383|035420|\n",
      "|  1532.15185546875|  1570.96630859375|1483.1229248046875|  1570.96630859375|  1540.95458984375|10548889|035420|\n",
      "|1564.8377685546875|  1591.39501953125| 1546.451904296875|1548.4947509765625| 1518.912353515625| 6510451|035420|\n",
      "|1568.9234619140625|1613.8665771484375|1564.8377685546875| 1577.094970703125|1546.9661865234375| 9129317|035420|\n",
      "| 1577.094970703125|1640.4239501953125|1575.0521240234375|1640.4239501953125| 1609.085205078125|10766720|035420|\n",
      "|   1662.8955078125|  1671.06689453125|1605.6951904296875|1613.8665771484375|1583.0352783203125| 6620590|035420|\n",
      "|1650.6383056640625| 1728.267333984375| 1626.123779296875|1648.5953369140625|   1617.1005859375|17414233|035420|\n",
      "|  1671.06689453125| 1697.624267578125| 1626.123779296875|   1662.8955078125|  1631.12744140625| 7900652|035420|\n",
      "+------------------+------------------+------------------+------------------+------------------+--------+------+\n",
      "only showing top 20 rows\n",
      "\n",
      "[*********************100%***********************]  1 of 1 completed\n",
      "+-----------------+-----------------+-----------------+-----------------+-----------------+------+------+\n",
      "|             Open|             High|              Low|            Close|         AdjClose|Volume|  Code|\n",
      "+-----------------+-----------------+-----------------+-----------------+-----------------+------+------+\n",
      "|2656.860107421875|2814.070068359375|2656.860107421875|2766.909912109375|2766.909912109375|362074|064260|\n",
      "|2803.590087890625| 2845.52001953125|2620.179931640625|  2698.7900390625|  2698.7900390625|223967|064260|\n",
      "| 2662.10009765625|2803.590087890625| 2635.89990234375|2766.909912109375|2766.909912109375|191880|064260|\n",
      "|2777.389892578125| 2798.35009765625|   2672.580078125|  2787.8701171875|  2787.8701171875|192065|064260|\n",
      "| 2688.31005859375|2756.429931640625| 2688.31005859375|2735.469970703125|2735.469970703125|106059|064260|\n",
      "| 2709.27001953125|  2787.8701171875| 2709.27001953125|2735.469970703125|2735.469970703125|142376|064260|\n",
      "|2704.030029296875|2745.949951171875| 2683.06005859375|2735.469970703125|2735.469970703125|142009|064260|\n",
      "|  2829.7900390625|  2829.7900390625|2714.510009765625|2756.429931640625|2756.429931640625|107640|064260|\n",
      "|2777.389892578125|2793.110107421875| 2709.27001953125| 2709.27001953125| 2709.27001953125| 81439|064260|\n",
      "|  2698.7900390625| 2751.18994140625|   2625.419921875|2641.139892578125|2641.139892578125| 77498|064260|\n",
      "|2641.139892578125|2714.510009765625|2567.780029296875|2575.639892578125|2575.639892578125|145053|064260|\n",
      "|2541.570068359375|2565.159912109375|   2489.169921875| 2523.22998046875| 2523.22998046875| 75739|064260|\n",
      "|2520.610107421875|  2586.1201171875|2520.610107421875|2531.090087890625|2531.090087890625| 27084|064260|\n",
      "|   2489.169921875| 2573.02001953125| 2481.31005859375|2567.780029296875|2567.780029296875| 57824|064260|\n",
      "|2528.469970703125|2591.360107421875| 2481.31005859375|2483.929931640625|2483.929931640625| 84361|064260|\n",
      "|          2447.25|   2536.330078125|  2290.0400390625|  2290.0400390625|  2290.0400390625|166500|064260|\n",
      "|2394.840087890625|2394.840087890625|2305.760009765625|   2352.919921875|   2352.919921875| 68600|064260|\n",
      "|2462.969970703125|2462.969970703125|  2379.1201171875|2410.570068359375|2410.570068359375| 51632|064260|\n",
      "|   2489.169921875|2504.889892578125| 2415.81005859375|   2489.169921875|   2489.169921875| 34435|064260|\n",
      "|2421.050048828125|   2536.330078125|2410.570068359375| 2436.77001953125| 2436.77001953125| 47025|064260|\n",
      "+-----------------+-----------------+-----------------+-----------------+-----------------+------+------+\n",
      "only showing top 20 rows\n",
      "\n"
     ]
    }
   ],
   "source": [
    "import yfinance as yf\n",
    " \n",
    "#data = yf.download(\"SPY AAPL\", start=\"2017-01-01\", end=\"2017-04-30\") #sample code \n",
    " \n",
    "ticker_list = [\"005930.KS\", '068270.KS', '035420.KS', '064260.KQ']\n",
    " \n",
    "for ticker in ticker_list:\n",
    "  # pandas df 로 받은 데이터를 spark dataframe 으로 변경\n",
    "  pdf = yf.download(ticker, sdate='2020-01-01')\n",
    "  df = spark.createDataFrame(pdf)  #df.show()\n",
    "  \n",
    "  #df.write.format('parquet').save('drive/MyDrive/data-warehouse/test')  # column Adj Close 와 관련한 이슈 발생\n",
    "  # AnalysisException: Attribute name \"Adj Close\" contains invalid character(s) among \" ,;{}()\\n\\t=\". Please use alias to rename it. \n",
    " \n",
    "  ticker = ticker.split('.')[0]\n",
    "  df = df.withColumnRenamed(\"Adj Close\", \"AdjClose\").withColumn(\"Code\", lit(ticker))\n",
    "  \n",
    "  # 1. unmanaged table 구성 \n",
    "  #    parquet 으로 먼저 다운 받은 데이터를 가지고 테이블을 구성. 테이블 삭제 시 해당 데이터 파일은 삭제 되지 않음\n",
    "  table_path = '/content/drive/MyDrive/data-warehouse/stock_day/'\n",
    "\n",
    "  # Overwrite specific partitions in spark dataframe write method\n",
    "  # df.write.mode(SaveMode.Overwrite).save(\"/root/path/to/data/partition_col=value\")\n",
    "  df.write.format('parquet').mode(\"overwrite\").save(table_path + 'Code='+ ticker)\n",
    "  df.show()\n",
    "  create_table_sql = 'create table if not exists stocklab.stock_day using org.apache.spark.sql.parquet options (path \"'+ table_path +'\")'\n",
    "  #print(create_table_sql)\n",
    "  spark.sql(create_table_sql)\n",
    "\n",
    "  # 2. managed table 구성\n",
    "  # 현재 DB 구성 하위로 테이블을 생성 하며 df에서 db 상에 테이블을 생성하는 방식으로 테이블과 데이터가 함께 관리 되며 삭제도 함께 진행. \n",
    "  #df.write.mode(\"overwrite\").partitionBy(\"Code\").saveAsTable(\"mng_stock_day\")\n",
    "  "
   ]
  },
  {
   "cell_type": "code",
   "execution_count": 25,
   "metadata": {
    "colab": {
     "base_uri": "https://localhost:8080/"
    },
    "id": "GgD3kv-4OvDK",
    "outputId": "d8c61767-145c-4715-d0d1-1b986e5aa685"
   },
   "outputs": [
    {
     "data": {
      "text/plain": [
       "DataFrame[]"
      ]
     },
     "execution_count": 25,
     "metadata": {
      "tags": []
     },
     "output_type": "execute_result"
    }
   ],
   "source": [
    "spark.sql(\"drop table stocklab.stock_day\")"
   ]
  },
  {
   "cell_type": "code",
   "execution_count": 36,
   "metadata": {
    "colab": {
     "base_uri": "https://localhost:8080/"
    },
    "id": "57pOnuTsfpR9",
    "outputId": "9f1efa86-8632-4baa-a005-7887f68d22f0"
   },
   "outputs": [
    {
     "name": "stdout",
     "output_type": "stream",
     "text": [
      "+------+------+------+------+----------------+--------+----+\n",
      "|  Open|  High|   Low| Close|        AdjClose|  Volume|Code|\n",
      "+------+------+------+------+----------------+--------+----+\n",
      "|6000.0|6110.0|5660.0|6110.0|4761.18310546875|74195000|5930|\n",
      "|5800.0|6060.0|5520.0|5580.0|4348.18408203125|74680000|5930|\n",
      "|5750.0|5780.0|5580.0|5620.0|4379.35400390625|54390000|5930|\n",
      "|5560.0|5670.0|5360.0|5540.0|     4317.015625|40305000|5930|\n",
      "|5600.0|5770.0|5580.0|5770.0|4496.24072265625|46880000|5930|\n",
      "|5820.0|6100.0|5770.0|5770.0|4496.24072265625|59745000|5930|\n",
      "|5610.0|5740.0|5600.0|5720.0| 4457.2783203125|29220000|5930|\n",
      "|5600.0|5740.0|5560.0|5710.0|4449.48583984375|41190000|5930|\n",
      "|5720.0|5880.0|5680.0|5830.0|4542.99560546875|49375000|5930|\n",
      "|6000.0|6180.0|5920.0|6100.0|4753.39111328125|63505000|5930|\n",
      "|6160.0|6160.0|5980.0|6100.0|4753.39111328125|45260000|5930|\n",
      "|6000.0|6040.0|5960.0|5960.0|4644.29736328125|40205000|5930|\n",
      "|5860.0|6040.0|5820.0|6040.0|4706.63916015625|37315000|5930|\n",
      "|5950.0|5980.0|5880.0|5880.0|4581.95849609375|32535000|5930|\n",
      "|5800.0|5900.0|5700.0|5700.0|4441.69384765625|34355000|5930|\n",
      "|5520.0|5640.0|5440.0|5440.0|4239.09033203125|44250000|5930|\n",
      "|5500.0|5520.0|5410.0|5480.0|  4270.259765625|29285000|5930|\n",
      "|5480.0|5620.0|5430.0|5520.0|4301.42822265625|27900000|5930|\n",
      "|5640.0|5880.0|5540.0|5820.0|4535.20458984375|38315000|5930|\n",
      "|5640.0|5730.0|5560.0|5580.0|4348.18408203125|39630000|5930|\n",
      "+------+------+------+------+----------------+--------+----+\n",
      "only showing top 20 rows\n",
      "\n",
      "+----------------------------+----------------------------------------------------+-------+\n",
      "|col_name                    |data_type                                           |comment|\n",
      "+----------------------------+----------------------------------------------------+-------+\n",
      "|Open                        |double                                              |null   |\n",
      "|High                        |double                                              |null   |\n",
      "|Low                         |double                                              |null   |\n",
      "|Close                       |double                                              |null   |\n",
      "|AdjClose                    |double                                              |null   |\n",
      "|Volume                      |bigint                                              |null   |\n",
      "|Code                        |int                                                 |null   |\n",
      "|                            |                                                    |       |\n",
      "|# Detailed Table Information|                                                    |       |\n",
      "|Database                    |stocklab                                            |       |\n",
      "|Table                       |stock_day                                           |       |\n",
      "|Owner                       |root                                                |       |\n",
      "|Created Time                |Sun Apr 25 02:37:31 UTC 2021                        |       |\n",
      "|Last Access                 |UNKNOWN                                             |       |\n",
      "|Created By                  |Spark 3.1.1                                         |       |\n",
      "|Type                        |EXTERNAL                                            |       |\n",
      "|Provider                    |org.apache.spark.sql.parquet                        |       |\n",
      "|Location                    |file:/content/drive/MyDrive/data-warehouse/stock_day|       |\n",
      "|Serde Library               |org.apache.hadoop.hive.serde2.lazy.LazySimpleSerDe  |       |\n",
      "|InputFormat                 |org.apache.hadoop.mapred.SequenceFileInputFormat    |       |\n",
      "+----------------------------+----------------------------------------------------+-------+\n",
      "only showing top 20 rows\n",
      "\n"
     ]
    }
   ],
   "source": [
    "spark.sql ( \"select * from stocklab.stock_day\").show()\n",
    "spark.sql(\"describe table extended stocklab.stock_day\").show(truncate=False)\n"
   ]
  },
  {
   "cell_type": "code",
   "execution_count": 35,
   "metadata": {
    "colab": {
     "base_uri": "https://localhost:8080/"
    },
    "id": "vkkk-NF6xmez",
    "outputId": "254d9602-2ac0-45a3-87c4-2f483efdeb58"
   },
   "outputs": [
    {
     "name": "stdout",
     "output_type": "stream",
     "text": [
      "+-----+---------+\n",
      "|Code |max(Code)|\n",
      "+-----+---------+\n",
      "|5930 |5930     |\n",
      "|64260|64260    |\n",
      "|35420|35420    |\n",
      "|68270|68270    |\n",
      "+-----+---------+\n",
      "\n"
     ]
    }
   ],
   "source": [
    "df = spark.sql(\"select * from stocklab.stock_day\")\n",
    "df.groupBy(\"Code\").max(\"Code\").show(truncate=False)"
   ]
  },
  {
   "cell_type": "code",
   "execution_count": null,
   "metadata": {
    "id": "firHG_P1xmDu"
   },
   "outputs": [],
   "source": []
  },
  {
   "cell_type": "markdown",
   "metadata": {
    "id": "sd-XAg8tTBaF"
   },
   "source": [
    "## run spark sql direct from file\n",
    "\n",
    "https://spark.apache.org/docs/2.3.1/sql-programming-guide.html#run-sql-on-files-directly"
   ]
  },
  {
   "cell_type": "code",
   "execution_count": 40,
   "metadata": {
    "colab": {
     "base_uri": "https://localhost:8080/"
    },
    "id": "FchEmc44S4dD",
    "outputId": "6da53693-f0ae-4c99-cb77-68be6db427ca"
   },
   "outputs": [
    {
     "name": "stdout",
     "output_type": "stream",
     "text": [
      "+------+------+------+------+----------------+--------+------+\n",
      "|Open  |High  |Low   |Close |AdjClose        |Volume  |Code  |\n",
      "+------+------+------+------+----------------+--------+------+\n",
      "|6000.0|6110.0|5660.0|6110.0|4761.18310546875|74195000|005930|\n",
      "|5800.0|6060.0|5520.0|5580.0|4348.18408203125|74680000|005930|\n",
      "|5750.0|5780.0|5580.0|5620.0|4379.35400390625|54390000|005930|\n",
      "|5560.0|5670.0|5360.0|5540.0|4317.015625     |40305000|005930|\n",
      "|5600.0|5770.0|5580.0|5770.0|4496.24072265625|46880000|005930|\n",
      "|5820.0|6100.0|5770.0|5770.0|4496.24072265625|59745000|005930|\n",
      "|5610.0|5740.0|5600.0|5720.0|4457.2783203125 |29220000|005930|\n",
      "|5600.0|5740.0|5560.0|5710.0|4449.48583984375|41190000|005930|\n",
      "|5720.0|5880.0|5680.0|5830.0|4542.99560546875|49375000|005930|\n",
      "|6000.0|6180.0|5920.0|6100.0|4753.39111328125|63505000|005930|\n",
      "|6160.0|6160.0|5980.0|6100.0|4753.39111328125|45260000|005930|\n",
      "|6000.0|6040.0|5960.0|5960.0|4644.29736328125|40205000|005930|\n",
      "|5860.0|6040.0|5820.0|6040.0|4706.63916015625|37315000|005930|\n",
      "|5950.0|5980.0|5880.0|5880.0|4581.95849609375|32535000|005930|\n",
      "|5800.0|5900.0|5700.0|5700.0|4441.69384765625|34355000|005930|\n",
      "|5520.0|5640.0|5440.0|5440.0|4239.09033203125|44250000|005930|\n",
      "|5500.0|5520.0|5410.0|5480.0|4270.259765625  |29285000|005930|\n",
      "|5480.0|5620.0|5430.0|5520.0|4301.42822265625|27900000|005930|\n",
      "|5640.0|5880.0|5540.0|5820.0|4535.20458984375|38315000|005930|\n",
      "|5640.0|5730.0|5560.0|5580.0|4348.18408203125|39630000|005930|\n",
      "+------+------+------+------+----------------+--------+------+\n",
      "only showing top 20 rows\n",
      "\n"
     ]
    }
   ],
   "source": [
    "# df = spark.sql(\"SELECT * FROM parquet.`examples/src/main/resources/users.parquet`\")\n",
    "spark.sql(\"select * from parquet.`/content/drive/MyDrive/data-warehouse/stock_day/*`\").show(truncate=False)"
   ]
  },
  {
   "cell_type": "markdown",
   "metadata": {
    "id": "0rVSrjCYaeKH"
   },
   "source": [
    "## pyspark 사용방법\n",
    "- pip install pyspark 설치 이후 \n",
    "  stored in directory 위치 확인 \n",
    "  \n",
    "/root/.cache/pip/wheels/0b/90/c0/01de724414ef122bd05f056541fb6a0ecf47c7ca655f8b3c0f\n",
    "\n",
    "- spark home 지정\n",
    "\n",
    "PYSPARK_PYTHON=python3 SPARK_HOME=~/root/.cache/pip/wheels/0b/90/c0/01de724414ef122bd05f056541fb6a0ecf47c7ca655f8b3c0f"
   ]
  },
  {
   "cell_type": "code",
   "execution_count": 3,
   "metadata": {
    "colab": {
     "base_uri": "https://localhost:8080/"
    },
    "id": "4_I8gjWOZ7rx",
    "outputId": "7f5a4db3-d981-4083-d0a3-bbc37fe2dada"
   },
   "outputs": [
    {
     "name": "stdout",
     "output_type": "stream",
     "text": [
      "Requirement already satisfied: pyspark in /usr/local/lib/python3.7/dist-packages (3.1.1)\n",
      "Requirement already satisfied: py4j==0.10.9 in /usr/local/lib/python3.7/dist-packages (from pyspark) (0.10.9)\n",
      "Collecting yfinance\n",
      "  Downloading https://files.pythonhosted.org/packages/a7/ee/315752b9ef281ba83c62aa7ec2e2074f85223da6e7e74efb4d3e11c0f510/yfinance-0.1.59.tar.gz\n",
      "Requirement already satisfied: pandas>=0.24 in /usr/local/lib/python3.7/dist-packages (from yfinance) (1.1.5)\n",
      "Requirement already satisfied: numpy>=1.15 in /usr/local/lib/python3.7/dist-packages (from yfinance) (1.19.5)\n",
      "Requirement already satisfied: requests>=2.20 in /usr/local/lib/python3.7/dist-packages (from yfinance) (2.23.0)\n",
      "Requirement already satisfied: multitasking>=0.0.7 in /usr/local/lib/python3.7/dist-packages (from yfinance) (0.0.9)\n",
      "Collecting lxml>=4.5.1\n",
      "\u001b[?25l  Downloading https://files.pythonhosted.org/packages/cf/4d/6537313bf58fe22b508f08cf3eb86b29b6f9edf68e00454224539421073b/lxml-4.6.3-cp37-cp37m-manylinux1_x86_64.whl (5.5MB)\n",
      "\u001b[K     |████████████████████████████████| 5.5MB 7.5MB/s \n",
      "\u001b[?25hRequirement already satisfied: python-dateutil>=2.7.3 in /usr/local/lib/python3.7/dist-packages (from pandas>=0.24->yfinance) (2.8.1)\n",
      "Requirement already satisfied: pytz>=2017.2 in /usr/local/lib/python3.7/dist-packages (from pandas>=0.24->yfinance) (2018.9)\n",
      "Requirement already satisfied: urllib3!=1.25.0,!=1.25.1,<1.26,>=1.21.1 in /usr/local/lib/python3.7/dist-packages (from requests>=2.20->yfinance) (1.24.3)\n",
      "Requirement already satisfied: chardet<4,>=3.0.2 in /usr/local/lib/python3.7/dist-packages (from requests>=2.20->yfinance) (3.0.4)\n",
      "Requirement already satisfied: idna<3,>=2.5 in /usr/local/lib/python3.7/dist-packages (from requests>=2.20->yfinance) (2.10)\n",
      "Requirement already satisfied: certifi>=2017.4.17 in /usr/local/lib/python3.7/dist-packages (from requests>=2.20->yfinance) (2020.12.5)\n",
      "Requirement already satisfied: six>=1.5 in /usr/local/lib/python3.7/dist-packages (from python-dateutil>=2.7.3->pandas>=0.24->yfinance) (1.15.0)\n",
      "Building wheels for collected packages: yfinance\n",
      "  Building wheel for yfinance (setup.py) ... \u001b[?25l\u001b[?25hdone\n",
      "  Created wheel for yfinance: filename=yfinance-0.1.59-py2.py3-none-any.whl size=23442 sha256=843d9d63e68c33a2445e47e1a6d651577666d7988459829ea74cd40b87262c31\n",
      "  Stored in directory: /root/.cache/pip/wheels/f8/2a/0f/4b5a86e1d52e451757eb6bc17fd899629f0925c777741b6d04\n",
      "Successfully built yfinance\n",
      "Installing collected packages: lxml, yfinance\n",
      "  Found existing installation: lxml 4.2.6\n",
      "    Uninstalling lxml-4.2.6:\n",
      "      Successfully uninstalled lxml-4.2.6\n",
      "Successfully installed lxml-4.6.3 yfinance-0.1.59\n",
      "Drive already mounted at /content/drive; to attempt to forcibly remount, call drive.mount(\"/content/drive\", force_remount=True).\n",
      "ls: cannot access 'drive/MyDrive/data-warehouse/stock_day': No such file or directory\n"
     ]
    }
   ],
   "source": [
    "# 기본 설정 \n",
    "\n",
    "!pip install pyspark\n",
    "!pip install yfinance\n",
    "\n",
    "#!PYSPARK_PYTHON=python3 SPARK_HOME=~/root/.cache/pip/wheels/0b/90/c0/01de724414ef122bd05f056541fb6a0ecf47c7ca655f8b3c0f\n",
    "\n",
    "from google.colab import drive\n",
    "drive.mount('/content/drive')\n",
    "!ls /content/drive/MyDrive/data-warehouse/stock_day"
   ]
  },
  {
   "cell_type": "code",
   "execution_count": 6,
   "metadata": {
    "colab": {
     "base_uri": "https://localhost:8080/"
    },
    "id": "mcPw4Kbmsjoq",
    "outputId": "13ee3021-3f15-4b4e-89fb-4d0280a86e68"
   },
   "outputs": [
    {
     "name": "stdout",
     "output_type": "stream",
     "text": [
      "part-00000-2b948eaf-6101-4dc5-a7c5-a7ffc8845fe0-c000.snappy.parquet\n",
      "part-00000-733393fb-9bcc-4464-8a40-983d0e799833-c000.snappy.parquet\n",
      "part-00000-a1204b83-0571-468c-807d-50ac96b0c149-c000.snappy.parquet\n",
      "part-00000-b92531e8-407a-42a2-b238-84fdbcb557e0-c000.snappy.parquet\n",
      "part-00000-dc247411-6349-4250-91b0-6750eee87076-c000.snappy.parquet\n",
      "part-00001-2b948eaf-6101-4dc5-a7c5-a7ffc8845fe0-c000.snappy.parquet\n",
      "part-00001-733393fb-9bcc-4464-8a40-983d0e799833-c000.snappy.parquet\n",
      "part-00001-a1204b83-0571-468c-807d-50ac96b0c149-c000.snappy.parquet\n",
      "part-00001-b92531e8-407a-42a2-b238-84fdbcb557e0-c000.snappy.parquet\n",
      "part-00001-dc247411-6349-4250-91b0-6750eee87076-c000.snappy.parquet\n",
      "stocklab.db\n",
      "_SUCCESS\n"
     ]
    }
   ],
   "source": [
    "!ls /content/drive/MyDrive/data-warehouse/"
   ]
  }
 ],
 "metadata": {
  "colab": {
   "authorship_tag": "ABX9TyM/7xLhLxwkjbdtb1suseOg",
   "collapsed_sections": [],
   "include_colab_link": true,
   "name": "pyspark-datawarehouse-01.ipynb",
   "provenance": [],
   "toc_visible": true
  },
  "kernelspec": {
   "display_name": "Python 3",
   "language": "python",
   "name": "python3"
  },
  "language_info": {
   "codemirror_mode": {
    "name": "ipython",
    "version": 3
   },
   "file_extension": ".py",
   "mimetype": "text/x-python",
   "name": "python",
   "nbconvert_exporter": "python",
   "pygments_lexer": "ipython3",
   "version": "3.8.5"
  }
 },
 "nbformat": 4,
 "nbformat_minor": 4
}

{
 "cells": [
  {
   "cell_type": "markdown",
   "metadata": {},
   "source": [
    "# spark partition\n",
    "\n",
    "\n",
    "### 이슈 사항 \n",
    "1. 기존에 생성되어 있는 파티션이 너무 작은 파일들로 partition 되어 있어 해당 파티션을 변경 ( google drive에 올리기 위해 )\n",
    "2. code 단위로 나눌 경우 추가 되는 데이터에 대한 처리가 쉽지 않음. \n",
    "3. 날짜 단위로 갈 경우 매 파티션 마다 큰 파일들로 구성되는 문제 해결 필요\n",
    "4. 날짜 단위로 업데이트는 이루지만 code별에 대해서는 buckecting 을 사용하여 파일 갯수를 줄이는 방법 "
   ]
  },
  {
   "cell_type": "code",
   "execution_count": 1,
   "metadata": {},
   "outputs": [],
   "source": [
    "from pyspark.sql import SparkSession\n",
    "\n",
    "spark = SparkSession.builder.appName(\"partition dev\").getOrCreate()"
   ]
  },
  {
   "cell_type": "code",
   "execution_count": 3,
   "metadata": {},
   "outputs": [],
   "source": [
    "df = spark.read.format(\"parquet\").load(\"d:/dw/stock_min\")"
   ]
  },
  {
   "cell_type": "code",
   "execution_count": null,
   "metadata": {},
   "outputs": [],
   "source": [
    "\n",
    "df.write.format(\"parquet\").mode(\"overwrite\").partitionBy(\"date\")"
   ]
  },
  {
   "cell_type": "code",
   "execution_count": null,
   "metadata": {},
   "outputs": [],
   "source": [
    "df2 = df2.repartition(10, \"SaleId\")"
   ]
  }
 ],
 "metadata": {
  "kernelspec": {
   "display_name": "test32",
   "language": "python",
   "name": "test32"
  },
  "language_info": {
   "codemirror_mode": {
    "name": "ipython",
    "version": 3
   },
   "file_extension": ".py",
   "mimetype": "text/x-python",
   "name": "python",
   "nbconvert_exporter": "python",
   "pygments_lexer": "ipython3",
   "version": "3.7.9"
  }
 },
 "nbformat": 4,
 "nbformat_minor": 4
}

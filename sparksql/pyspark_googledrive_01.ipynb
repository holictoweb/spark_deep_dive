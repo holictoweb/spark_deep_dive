{
  "nbformat": 4,
  "nbformat_minor": 0,
  "metadata": {
    "colab": {
      "name": "pyspark-googledrive-01.ipynb",
      "provenance": [],
      "collapsed_sections": [],
      "authorship_tag": "ABX9TyOck2RjDzQSF273QE+V9uCy",
      "include_colab_link": true
    },
    "kernelspec": {
      "name": "python3",
      "display_name": "Python 3"
    },
    "language_info": {
      "name": "python"
    }
  },
  "cells": [
    {
      "cell_type": "markdown",
      "metadata": {
        "id": "view-in-github",
        "colab_type": "text"
      },
      "source": [
        "<a href=\"https://colab.research.google.com/github/holictoweb/spark_deep_dive/blob/main/sparksql/pyspark_googledrive_01.ipynb\" target=\"_parent\"><img src=\"https://colab.research.google.com/assets/colab-badge.svg\" alt=\"Open In Colab\"/></a>"
      ]
    },
    {
      "cell_type": "markdown",
      "metadata": {
        "id": "6ldGJgWecqJ2"
      },
      "source": [
        "### colab + yfinance + google drive + pyspark\n",
        "\n",
        "1. pyspark 설치 \n",
        "2. yfinance를 통해 데이터 수집\n",
        "3. google drive 상에 parquet 으로 데이터 저장\n",
        "4. pyspark을 통해 해당 데이터를 테이블로 저장\n",
        "5. 데이터 분석 진행"
      ]
    },
    {
      "cell_type": "code",
      "metadata": {
        "colab": {
          "base_uri": "https://localhost:8080/"
        },
        "id": "OJ9PYcNqcbp5",
        "outputId": "23596ad2-5a22-40ef-e243-d6443799a9b2"
      },
      "source": [
        "from google.colab import drive\n",
        "drive.mount('/content/drive')"
      ],
      "execution_count": 14,
      "outputs": [
        {
          "output_type": "stream",
          "text": [
            "Mounted at /content/drive\n"
          ],
          "name": "stdout"
        }
      ]
    },
    {
      "cell_type": "code",
      "metadata": {
        "id": "XoNJr7BMaD_Z"
      },
      "source": [
        "from pyspark.sql import SparkSession\n",
        "from pyspark.conf import SparkConf\n",
        "from pyspark.sql.types import *\n",
        "from pyspark.sql.functions import lit\n",
        "\n",
        "spark = SparkSession.builder.appName('test_spark').getOrCreate()"
      ],
      "execution_count": 83,
      "outputs": []
    },
    {
      "cell_type": "code",
      "metadata": {
        "colab": {
          "base_uri": "https://localhost:8080/"
        },
        "id": "3E-GenInaDfD",
        "outputId": "86e722f3-d507-4577-e8d8-01ea7c09b5d3"
      },
      "source": [
        "spark.sql(\"create database IF NOT EXISTS stocklab\")\n",
        "spark.sql(\"show databases\").show()"
      ],
      "execution_count": 66,
      "outputs": [
        {
          "output_type": "stream",
          "text": [
            "+---------+\n",
            "|namespace|\n",
            "+---------+\n",
            "|  default|\n",
            "| stocklab|\n",
            "+---------+\n",
            "\n"
          ],
          "name": "stdout"
        }
      ]
    },
    {
      "cell_type": "code",
      "metadata": {
        "colab": {
          "base_uri": "https://localhost:8080/"
        },
        "id": "mw0MlTKEb-Kc",
        "outputId": "dbbd293a-7927-497e-a110-9d86ae7f64fa"
      },
      "source": [
        "# yfinance 를 통해 리스트 확보\n",
        "import yfinance as yf\n",
        "\n",
        "#data = yf.download(\"SPY AAPL\", start=\"2017-01-01\", end=\"2017-04-30\") #sample code \n",
        "\n",
        "ticker_list = [\"005930.KS\", ]\n",
        "\n",
        "for ticker in ticker_list:\n",
        "  pdf = yf.download(ticker, sdate='2020-01-01')\n",
        "\n",
        "  '''\n",
        "  df_schema = StructType([ \\\n",
        "    StructField(\"open\"), DoubleType(), True), \\\n",
        "    StructField(\"high\"), DoubleType(), True), \\\n",
        "    StructField(\"low\"), DoubleType(), True), \\\n",
        "    StructField(\"close\"), DoubleType(), True), \\\n",
        "    StructField(\"adfclose\"), DoubleType(), True), \\\n",
        "    StructField(\"volume\"), LongType(), True) \\  \n",
        "  ])\n",
        "  '''\n",
        "\n",
        "\n",
        "  df = spark.createDataFrame(pdf)  #df.show()\n",
        "  \n",
        "  #df.write.format('parquet').save('drive/MyDrive/data-warehouse/test')  # column Adj Close 와 관련한 이슈 발생\n",
        "  # AnalysisException: Attribute name \"Adj Close\" contains invalid character(s) among \" ,;{}()\\n\\t=\". Please use alias to rename it. \n",
        "\n",
        "  ticker = ticker.split('.')[0]\n",
        "  print(ticker)\n",
        "  \n",
        "  df = df.withColumnRenamed(\"Adj Close\", \"AdjClose\").withColumn(\"Code\", lit(ticker))\n",
        "\n",
        "  path = 'drive/MyDrive/data-warehouse/stock_day'\n",
        "  df.write.format('parquet').mode(\"overwrite\").save(path)\n",
        "  #df.show()\n",
        "  create_table_sql = 'create table if not exists stocklab.stock_day using org.apache.spark.sql.parquet options( path  \"'+ path +'\")'\n",
        "  spark.sql(create_table_sql)\n",
        "  \n",
        "  \n",
        "  '''\n",
        "  df.write.saveAsTable(\"stock_day_test\")\n",
        "\n",
        "  df_read = spark.read.format(\"parquet\").load(path)\n",
        "  df_read.show()\n",
        "  '''"
      ],
      "execution_count": 119,
      "outputs": [
        {
          "output_type": "stream",
          "text": [
            "\r[*********************100%***********************]  1 of 1 completed\n",
            "005930\n",
            "+------+------+------+------+----------------+--------+------+\n",
            "|  Open|  High|   Low| Close|        AdjClose|  Volume|  Code|\n",
            "+------+------+------+------+----------------+--------+------+\n",
            "|6000.0|6110.0|5660.0|6110.0|4761.18310546875|74195000|005930|\n",
            "|5800.0|6060.0|5520.0|5580.0|4348.18408203125|74680000|005930|\n",
            "|5750.0|5780.0|5580.0|5620.0|4379.35400390625|54390000|005930|\n",
            "|5560.0|5670.0|5360.0|5540.0|     4317.015625|40305000|005930|\n",
            "|5600.0|5770.0|5580.0|5770.0|4496.24072265625|46880000|005930|\n",
            "|5820.0|6100.0|5770.0|5770.0|4496.24072265625|59745000|005930|\n",
            "|5610.0|5740.0|5600.0|5720.0| 4457.2783203125|29220000|005930|\n",
            "|5600.0|5740.0|5560.0|5710.0|4449.48583984375|41190000|005930|\n",
            "|5720.0|5880.0|5680.0|5830.0|4542.99560546875|49375000|005930|\n",
            "|6000.0|6180.0|5920.0|6100.0|4753.39111328125|63505000|005930|\n",
            "|6160.0|6160.0|5980.0|6100.0|4753.39111328125|45260000|005930|\n",
            "|6000.0|6040.0|5960.0|5960.0|4644.29736328125|40205000|005930|\n",
            "|5860.0|6040.0|5820.0|6040.0|4706.63916015625|37315000|005930|\n",
            "|5950.0|5980.0|5880.0|5880.0|4581.95849609375|32535000|005930|\n",
            "|5800.0|5900.0|5700.0|5700.0|4441.69384765625|34355000|005930|\n",
            "|5520.0|5640.0|5440.0|5440.0|4239.09033203125|44250000|005930|\n",
            "|5500.0|5520.0|5410.0|5480.0|  4270.259765625|29285000|005930|\n",
            "|5480.0|5620.0|5430.0|5520.0|4301.42822265625|27900000|005930|\n",
            "|5640.0|5880.0|5540.0|5820.0|4535.20458984375|38315000|005930|\n",
            "|5640.0|5730.0|5560.0|5580.0|4348.18408203125|39630000|005930|\n",
            "+------+------+------+------+----------------+--------+------+\n",
            "only showing top 20 rows\n",
            "\n"
          ],
          "name": "stdout"
        }
      ]
    },
    {
      "cell_type": "code",
      "metadata": {
        "colab": {
          "base_uri": "https://localhost:8080/"
        },
        "id": "57pOnuTsfpR9",
        "outputId": "5a5e3d3f-c63c-4530-c57c-47c391a30736"
      },
      "source": [
        "spark.sql ( \"select * from stocklab.stock_day_test\").show()\n",
        "spark.sql(\"show tables\").show()"
      ],
      "execution_count": 117,
      "outputs": [
        {
          "output_type": "stream",
          "text": [
            "+------+------+------+------+----------------+--------+------+\n",
            "|  Open|  High|   Low| Close|        AdjClose|  Volume|  Code|\n",
            "+------+------+------+------+----------------+--------+------+\n",
            "|6000.0|6110.0|5660.0|6110.0|4761.18310546875|74195000|005930|\n",
            "|5800.0|6060.0|5520.0|5580.0|4348.18408203125|74680000|005930|\n",
            "|5750.0|5780.0|5580.0|5620.0|4379.35400390625|54390000|005930|\n",
            "|5560.0|5670.0|5360.0|5540.0|     4317.015625|40305000|005930|\n",
            "|5600.0|5770.0|5580.0|5770.0|4496.24072265625|46880000|005930|\n",
            "|5820.0|6100.0|5770.0|5770.0|4496.24072265625|59745000|005930|\n",
            "|5610.0|5740.0|5600.0|5720.0| 4457.2783203125|29220000|005930|\n",
            "|5600.0|5740.0|5560.0|5710.0|4449.48583984375|41190000|005930|\n",
            "|5720.0|5880.0|5680.0|5830.0|4542.99560546875|49375000|005930|\n",
            "|6000.0|6180.0|5920.0|6100.0|4753.39111328125|63505000|005930|\n",
            "|6160.0|6160.0|5980.0|6100.0|4753.39111328125|45260000|005930|\n",
            "|6000.0|6040.0|5960.0|5960.0|4644.29736328125|40205000|005930|\n",
            "|5860.0|6040.0|5820.0|6040.0|4706.63916015625|37315000|005930|\n",
            "|5950.0|5980.0|5880.0|5880.0|4581.95849609375|32535000|005930|\n",
            "|5800.0|5900.0|5700.0|5700.0|4441.69384765625|34355000|005930|\n",
            "|5520.0|5640.0|5440.0|5440.0|4239.09033203125|44250000|005930|\n",
            "|5500.0|5520.0|5410.0|5480.0|  4270.259765625|29285000|005930|\n",
            "|5480.0|5620.0|5430.0|5520.0|4301.42822265625|27900000|005930|\n",
            "|5640.0|5880.0|5540.0|5820.0|4535.20458984375|38315000|005930|\n",
            "|5640.0|5730.0|5560.0|5580.0|4348.18408203125|39630000|005930|\n",
            "+------+------+------+------+----------------+--------+------+\n",
            "only showing top 20 rows\n",
            "\n",
            "+--------+--------------+-----------+\n",
            "|database|     tableName|isTemporary|\n",
            "+--------+--------------+-----------+\n",
            "|stocklab|     stock_day|      false|\n",
            "|stocklab|stock_day_test|      false|\n",
            "+--------+--------------+-----------+\n",
            "\n"
          ],
          "name": "stdout"
        }
      ]
    },
    {
      "cell_type": "code",
      "metadata": {
        "id": "vkkk-NF6xmez"
      },
      "source": [
        "spark.sql(\"drop table stocklab.stock_day_test\")"
      ],
      "execution_count": null,
      "outputs": []
    },
    {
      "cell_type": "code",
      "metadata": {
        "id": "firHG_P1xmDu"
      },
      "source": [
        ""
      ],
      "execution_count": null,
      "outputs": []
    },
    {
      "cell_type": "markdown",
      "metadata": {
        "id": "0rVSrjCYaeKH"
      },
      "source": [
        "## pyspark 사용방법\n",
        "- pip install pyspark 설치 이후 \n",
        "  stored in directory 위치 확인 \n",
        "  \n",
        "/root/.cache/pip/wheels/0b/90/c0/01de724414ef122bd05f056541fb6a0ecf47c7ca655f8b3c0f\n",
        "\n",
        "- spark home 지정\n",
        "\n",
        "PYSPARK_PYTHON=python3 SPARK_HOME=~/root/.cache/pip/wheels/0b/90/c0/01de724414ef122bd05f056541fb6a0ecf47c7ca655f8b3c0f"
      ]
    },
    {
      "cell_type": "code",
      "metadata": {
        "colab": {
          "base_uri": "https://localhost:8080/"
        },
        "id": "sR8elY1xZ14M",
        "outputId": "1e51e311-2cfb-41e7-db5c-afc8a4b8db74"
      },
      "source": [
        "!pip install pyspark\n"
      ],
      "execution_count": 1,
      "outputs": [
        {
          "output_type": "stream",
          "text": [
            "Collecting pyspark\n",
            "\u001b[?25l  Downloading https://files.pythonhosted.org/packages/45/b0/9d6860891ab14a39d4bddf80ba26ce51c2f9dc4805e5c6978ac0472c120a/pyspark-3.1.1.tar.gz (212.3MB)\n",
            "\u001b[K     |████████████████████████████████| 212.3MB 67kB/s \n",
            "\u001b[?25hCollecting py4j==0.10.9\n",
            "\u001b[?25l  Downloading https://files.pythonhosted.org/packages/9e/b6/6a4fb90cd235dc8e265a6a2067f2a2c99f0d91787f06aca4bcf7c23f3f80/py4j-0.10.9-py2.py3-none-any.whl (198kB)\n",
            "\u001b[K     |████████████████████████████████| 204kB 39.8MB/s \n",
            "\u001b[?25hBuilding wheels for collected packages: pyspark\n",
            "  Building wheel for pyspark (setup.py) ... \u001b[?25l\u001b[?25hdone\n",
            "  Created wheel for pyspark: filename=pyspark-3.1.1-py2.py3-none-any.whl size=212767604 sha256=2466b3861ca0b97f7248626980724d97eaff4ec66a2b511920cd0421a2cf9d3a\n",
            "  Stored in directory: /root/.cache/pip/wheels/0b/90/c0/01de724414ef122bd05f056541fb6a0ecf47c7ca655f8b3c0f\n",
            "Successfully built pyspark\n",
            "Installing collected packages: py4j, pyspark\n",
            "Successfully installed py4j-0.10.9 pyspark-3.1.1\n"
          ],
          "name": "stdout"
        }
      ]
    },
    {
      "cell_type": "code",
      "metadata": {
        "id": "qPQuhkCEa-aO"
      },
      "source": [
        "!PYSPARK_PYTHON=python3 SPARK_HOME=~/root/.cache/pip/wheels/0b/90/c0/01de724414ef122bd05f056541fb6a0ecf47c7ca655f8b3c0f"
      ],
      "execution_count": 6,
      "outputs": []
    },
    {
      "cell_type": "code",
      "metadata": {
        "colab": {
          "base_uri": "https://localhost:8080/"
        },
        "id": "4_I8gjWOZ7rx",
        "outputId": "8d0b643e-cd60-4dcf-c3ec-40ae0bbc372c"
      },
      "source": [
        "!pip install yfinance\n",
        "!pip install "
      ],
      "execution_count": 2,
      "outputs": [
        {
          "output_type": "stream",
          "text": [
            "Collecting yfinance\n",
            "  Downloading https://files.pythonhosted.org/packages/a7/ee/315752b9ef281ba83c62aa7ec2e2074f85223da6e7e74efb4d3e11c0f510/yfinance-0.1.59.tar.gz\n",
            "Requirement already satisfied: pandas>=0.24 in /usr/local/lib/python3.7/dist-packages (from yfinance) (1.1.5)\n",
            "Requirement already satisfied: numpy>=1.15 in /usr/local/lib/python3.7/dist-packages (from yfinance) (1.19.5)\n",
            "Requirement already satisfied: requests>=2.20 in /usr/local/lib/python3.7/dist-packages (from yfinance) (2.23.0)\n",
            "Requirement already satisfied: multitasking>=0.0.7 in /usr/local/lib/python3.7/dist-packages (from yfinance) (0.0.9)\n",
            "Collecting lxml>=4.5.1\n",
            "\u001b[?25l  Downloading https://files.pythonhosted.org/packages/cf/4d/6537313bf58fe22b508f08cf3eb86b29b6f9edf68e00454224539421073b/lxml-4.6.3-cp37-cp37m-manylinux1_x86_64.whl (5.5MB)\n",
            "\u001b[K     |████████████████████████████████| 5.5MB 6.1MB/s \n",
            "\u001b[?25hRequirement already satisfied: pytz>=2017.2 in /usr/local/lib/python3.7/dist-packages (from pandas>=0.24->yfinance) (2018.9)\n",
            "Requirement already satisfied: python-dateutil>=2.7.3 in /usr/local/lib/python3.7/dist-packages (from pandas>=0.24->yfinance) (2.8.1)\n",
            "Requirement already satisfied: chardet<4,>=3.0.2 in /usr/local/lib/python3.7/dist-packages (from requests>=2.20->yfinance) (3.0.4)\n",
            "Requirement already satisfied: idna<3,>=2.5 in /usr/local/lib/python3.7/dist-packages (from requests>=2.20->yfinance) (2.10)\n",
            "Requirement already satisfied: certifi>=2017.4.17 in /usr/local/lib/python3.7/dist-packages (from requests>=2.20->yfinance) (2020.12.5)\n",
            "Requirement already satisfied: urllib3!=1.25.0,!=1.25.1,<1.26,>=1.21.1 in /usr/local/lib/python3.7/dist-packages (from requests>=2.20->yfinance) (1.24.3)\n",
            "Requirement already satisfied: six>=1.5 in /usr/local/lib/python3.7/dist-packages (from python-dateutil>=2.7.3->pandas>=0.24->yfinance) (1.15.0)\n",
            "Building wheels for collected packages: yfinance\n",
            "  Building wheel for yfinance (setup.py) ... \u001b[?25l\u001b[?25hdone\n",
            "  Created wheel for yfinance: filename=yfinance-0.1.59-py2.py3-none-any.whl size=23442 sha256=074b27b789cadcd7cd2b423d17dd62999efcd0ca3473ff3f67518c8bea34bb04\n",
            "  Stored in directory: /root/.cache/pip/wheels/f8/2a/0f/4b5a86e1d52e451757eb6bc17fd899629f0925c777741b6d04\n",
            "Successfully built yfinance\n",
            "Installing collected packages: lxml, yfinance\n",
            "  Found existing installation: lxml 4.2.6\n",
            "    Uninstalling lxml-4.2.6:\n",
            "      Successfully uninstalled lxml-4.2.6\n",
            "Successfully installed lxml-4.6.3 yfinance-0.1.59\n"
          ],
          "name": "stdout"
        }
      ]
    },
    {
      "cell_type": "code",
      "metadata": {
        "id": "VGSLgKpFaGG8"
      },
      "source": [
        "!ls drive/MyDrive/data-warehouse"
      ],
      "execution_count": 20,
      "outputs": []
    },
    {
      "cell_type": "code",
      "metadata": {
        "id": "Asnwnbz0dXhb"
      },
      "source": [
        ""
      ],
      "execution_count": null,
      "outputs": []
    }
  ]
}
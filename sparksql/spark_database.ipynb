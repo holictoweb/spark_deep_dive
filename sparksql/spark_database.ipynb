{
 "cells": [
  {
   "cell_type": "code",
   "execution_count": 1,
   "metadata": {},
   "outputs": [],
   "source": [
    "from pyspark.sql import SparkSession\n",
    "\n"
   ]
  },
  {
   "cell_type": "code",
   "execution_count": 4,
   "metadata": {},
   "outputs": [],
   "source": [
    "spark  = SparkSession.builder.enableHiveSupport().getOrCreate()\n",
    "\n",
    "    #.master(\"ip\")\n",
    "\n",
    "#spark.conf.set(\"spark.executor.memory\", '1g')\n",
    "#spark.conf.set('spark.executor.cores', '1')\n",
    "#spark.conf.set('spark.cores.max', '1')\n",
    "#spark.conf.set(\"spark.driver.memory\",'1g')\n",
    "sc = spark.sparkContext"
   ]
  },
  {
   "cell_type": "code",
   "execution_count": 5,
   "metadata": {},
   "outputs": [
    {
     "data": {
      "text/plain": [
       "[('spark.driver.port', '58910'),\n",
       " ('spark.executor.id', 'driver'),\n",
       " ('spark.app.id', 'local-1620917400009'),\n",
       " ('spark.app.name', 'pyspark-shell'),\n",
       " ('spark.driver.host', '10.1.1.178'),\n",
       " ('spark.sql.catalogImplementation', 'hive'),\n",
       " ('spark.rdd.compress', 'True'),\n",
       " ('spark.sql.warehouse.dir',\n",
       "  'file:/D:/spark-deep-dive/spark_deep_dive/sparksql/spark-warehouse'),\n",
       " ('spark.serializer.objectStreamReset', '100'),\n",
       " ('spark.master', 'local[*]'),\n",
       " ('spark.submit.pyFiles', ''),\n",
       " ('spark.submit.deployMode', 'client'),\n",
       " ('spark.ui.showConsoleProgress', 'true'),\n",
       " ('spark.app.startTime', '1620917398886')]"
      ]
     },
     "execution_count": 5,
     "metadata": {},
     "output_type": "execute_result"
    }
   ],
   "source": [
    "sc.getConf().getAll()"
   ]
  }
 ],
 "metadata": {
  "kernelspec": {
   "display_name": "test32",
   "language": "python",
   "name": "test32"
  },
  "language_info": {
   "codemirror_mode": {
    "name": "ipython",
    "version": 3
   },
   "file_extension": ".py",
   "mimetype": "text/x-python",
   "name": "python",
   "nbconvert_exporter": "python",
   "pygments_lexer": "ipython3",
   "version": "3.7.9"
  }
 },
 "nbformat": 4,
 "nbformat_minor": 4
}

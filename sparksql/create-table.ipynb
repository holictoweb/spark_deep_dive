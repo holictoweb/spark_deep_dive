


# define function
def create_catalog_table( s3_bucket, s3_location,   table_name):
    try:
        drop_sql = 'drop table if exists default.' + table_name
        spark.sql(drop_sql)
        create_sql = 'create table default.' + table_name + ' using org.apache.spark.sql.parquet options ( path "' + s3_bucket + s3_location  + '" , fileFormat "PARQUET")'
        spark.sql(create_sql)
        print ( table_name + 'create completed')
    except Exception as e :
        print( e)
        
        
        
        
# execution example 
create_catalog_table( 's3://mfas-artifact', '/bespin-test/data/', 'tbl_test_lji')

